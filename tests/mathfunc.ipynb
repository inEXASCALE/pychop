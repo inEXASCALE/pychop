{
 "cells": [
  {
   "cell_type": "code",
   "execution_count": 1,
   "id": "aea529fb-c20c-404c-bb8d-0ddba703d8a3",
   "metadata": {},
   "outputs": [
    {
     "name": "stdout",
     "output_type": "stream",
     "text": [
      "Load NumPy backend.\n"
     ]
    }
   ],
   "source": [
    "import sys\n",
    "# appending a path\n",
    "sys.path.append('../')\n",
    "\n",
    "import jax\n",
    "import torch\n",
    "import numpy as np\n",
    "from pychop.chop import Chop\n",
    "from scipy.io import loadmat\n",
    "import pychop\n",
    "\n",
    "# pychop.backend('torch')\n",
    "pychop.backend('numpy', 1) # print information, NumPy is the default option.\n",
    "X_np = loadmat(\"verified_data.mat\")\n",
    "X_np = X_np['array'][0]"
   ]
  },
  {
   "cell_type": "code",
   "execution_count": 2,
   "id": "304a265d-22cf-4188-9843-7d8c608770b1",
   "metadata": {},
   "outputs": [
    {
     "data": {
      "text/plain": [
       "array([ 0.98144531,  0.38964844,  0.82958984, ...,  0.49438477,\n",
       "       -0.03292847,  0.96289062])"
      ]
     },
     "execution_count": 2,
     "metadata": {},
     "output_type": "execute_result"
    }
   ],
   "source": [
    "ch = Chop('h', rmode=1, subnormal=0)\n",
    "emulated= ch(X_np)\n",
    "\n",
    "ch.sin(X_np)"
   ]
  },
  {
   "cell_type": "code",
   "execution_count": 3,
   "id": "5d89b2dd-f92f-4685-a003-0d0597a27872",
   "metadata": {},
   "outputs": [
    {
     "data": {
      "text/plain": [
       "array([ 0.9814571 ,  0.38955326,  0.82966963, ...,  0.49435255,\n",
       "       -0.03292252,  0.96298126])"
      ]
     },
     "execution_count": 3,
     "metadata": {},
     "output_type": "execute_result"
    }
   ],
   "source": [
    "np.sin(X_np)"
   ]
  },
  {
   "cell_type": "code",
   "execution_count": 4,
   "id": "cbc69bad-b272-43a1-89e2-dcf35860cae1",
   "metadata": {},
   "outputs": [],
   "source": [
    "X_th = torch.from_numpy(X_np.astype(np.float32)) # torch array\n",
    "\n",
    "# X_jx = jax.numpy.asarray(X_np)\n",
    "pychop.backend('torch')"
   ]
  },
  {
   "cell_type": "code",
   "execution_count": 5,
   "id": "66e98ac6-4115-47fa-a330-4e033c2f934b",
   "metadata": {},
   "outputs": [
    {
     "data": {
      "text/plain": [
       "tensor([ 0.9814,  0.3896,  0.8296,  ...,  0.4944, -0.0329,  0.9629])"
      ]
     },
     "execution_count": 5,
     "metadata": {},
     "output_type": "execute_result"
    }
   ],
   "source": [
    "ch = Chop('h', rmode=1, subnormal=0)\n",
    "emulated= ch(X_th)\n",
    "\n",
    "ch.sin(X_th)"
   ]
  },
  {
   "cell_type": "code",
   "execution_count": 6,
   "id": "1bfce618-e2a5-4c4e-bc52-92e091d05910",
   "metadata": {},
   "outputs": [
    {
     "data": {
      "text/plain": [
       "torch.float32"
      ]
     },
     "execution_count": 6,
     "metadata": {},
     "output_type": "execute_result"
    }
   ],
   "source": [
    "ch.sin(X_th).dtype"
   ]
  },
  {
   "cell_type": "code",
   "execution_count": 7,
   "id": "00b07714-12c4-4d45-9f8b-2dbf95cb44c0",
   "metadata": {},
   "outputs": [
    {
     "data": {
      "text/plain": [
       "dtype('float32')"
      ]
     },
     "execution_count": 7,
     "metadata": {},
     "output_type": "execute_result"
    }
   ],
   "source": [
    "pychop.backend('jax')\n",
    "X_jx = jax.numpy.asarray(X_np)\n",
    "\n",
    "ch = Chop('h', rmode=1, subnormal=0)\n",
    "emulated= ch(X_jx)\n",
    "\n",
    "ch.sin(X_jx).dtype"
   ]
  },
  {
   "cell_type": "code",
   "execution_count": null,
   "id": "917c4bad-8cc1-40e8-80fe-f4ba6d3d97b5",
   "metadata": {},
   "outputs": [],
   "source": []
  },
  {
   "cell_type": "code",
   "execution_count": null,
   "id": "a387eb43-7378-49fc-81bc-b5ab0fcab093",
   "metadata": {},
   "outputs": [],
   "source": []
  }
 ],
 "metadata": {
  "kernelspec": {
   "display_name": "Python 3 (ipykernel)",
   "language": "python",
   "name": "python3"
  },
  "language_info": {
   "codemirror_mode": {
    "name": "ipython",
    "version": 3
   },
   "file_extension": ".py",
   "mimetype": "text/x-python",
   "name": "python",
   "nbconvert_exporter": "python",
   "pygments_lexer": "ipython3",
   "version": "3.12.4"
  }
 },
 "nbformat": 4,
 "nbformat_minor": 5
}
