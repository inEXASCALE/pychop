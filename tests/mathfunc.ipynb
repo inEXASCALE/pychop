{
 "cells": [
  {
   "cell_type": "code",
   "execution_count": 1,
   "id": "aea529fb-c20c-404c-bb8d-0ddba703d8a3",
   "metadata": {},
   "outputs": [
    {
     "name": "stdout",
     "output_type": "stream",
     "text": [
      "Load NumPy backend.\n"
     ]
    }
   ],
   "source": [
    "import sys\n",
    "# appending a path\n",
    "sys.path.append('../')\n",
    "\n",
    "import jax\n",
    "import torch\n",
    "import numpy as np\n",
    "from pychop.chop import chop\n",
    "from scipy.io import loadmat\n",
    "import pychop\n",
    "\n",
    "# pychop.backend('torch')\n",
    "pychop.backend('numpy', 1) # print information, NumPy is the default option.\n",
    "X_np = loadmat(\"verified_data.mat\")\n",
    "X_np = X_np['array'][0]"
   ]
  },
  {
   "cell_type": "code",
   "execution_count": 2,
   "id": "304a265d-22cf-4188-9843-7d8c608770b1",
   "metadata": {},
   "outputs": [
    {
     "data": {
      "text/plain": [
       "array([ 0.98144531,  0.38964844,  0.82958984, ...,  0.49438477,\n",
       "       -0.03292847,  0.96289062])"
      ]
     },
     "execution_count": 2,
     "metadata": {},
     "output_type": "execute_result"
    }
   ],
   "source": [
    "ch = chop('h', rmode=1, subnormal=0)\n",
    "emulated= ch(X_np)\n",
    "\n",
    "ch.sin(X_np)"
   ]
  },
  {
   "cell_type": "code",
   "execution_count": 3,
   "id": "5d89b2dd-f92f-4685-a003-0d0597a27872",
   "metadata": {},
   "outputs": [
    {
     "data": {
      "text/plain": [
       "array([ 0.9814571 ,  0.38955326,  0.82966963, ...,  0.49435255,\n",
       "       -0.03292252,  0.96298126])"
      ]
     },
     "execution_count": 3,
     "metadata": {},
     "output_type": "execute_result"
    }
   ],
   "source": [
    "np.sin(X_np)"
   ]
  }
 ],
 "metadata": {
  "kernelspec": {
   "display_name": "Python 3 (ipykernel)",
   "language": "python",
   "name": "python3"
  },
  "language_info": {
   "codemirror_mode": {
    "name": "ipython",
    "version": 3
   },
   "file_extension": ".py",
   "mimetype": "text/x-python",
   "name": "python",
   "nbconvert_exporter": "python",
   "pygments_lexer": "ipython3",
   "version": "3.12.4"
  }
 },
 "nbformat": 4,
 "nbformat_minor": 5
}
