{
 "cells": [
  {
   "cell_type": "code",
   "execution_count": null,
   "id": "296dd14a",
   "metadata": {},
   "outputs": [],
   "source": [
    "import numpy as np\n",
    "import torch\n",
    "import pychop\n",
    "from numpy import linalg\n",
    "import jax\n",
    "# from pychop.chop import chop\n",
    "# from pychop.quant import quant\n",
    "from time import time\n",
    "np.random.seed(0)"
   ]
  },
  {
   "cell_type": "code",
   "execution_count": null,
   "id": "ad8e9d84",
   "metadata": {},
   "outputs": [],
   "source": [
    "X_np = np.random.randn(500, 500) # Numpy array\n",
    "X_th = torch.Tensor(X_np) # torch array\n",
    "X_jx = jax.numpy.asarray(X_np)\n",
    "print(X_np)"
   ]
  },
  {
   "cell_type": "markdown",
   "id": "e2b51fba",
   "metadata": {},
   "source": [
    "### print unit-roundoff in machine"
   ]
  },
  {
   "cell_type": "code",
   "execution_count": null,
   "id": "618838ea",
   "metadata": {},
   "outputs": [],
   "source": [
    "from pychop import float_params\n",
    "\n",
    "float_params()"
   ]
  },
  {
   "cell_type": "markdown",
   "id": "f6e72fb9",
   "metadata": {},
   "source": [
    "### set backend"
   ]
  },
  {
   "cell_type": "code",
   "execution_count": null,
   "id": "36ffc3e8",
   "metadata": {},
   "outputs": [],
   "source": [
    "pychop.backend('torch')"
   ]
  },
  {
   "cell_type": "code",
   "execution_count": null,
   "id": "9297600d",
   "metadata": {},
   "outputs": [],
   "source": [
    "pychop.backend('numpy', 1) # print information, NumPy is the default option."
   ]
  },
  {
   "cell_type": "markdown",
   "id": "0417a000",
   "metadata": {},
   "source": [
    "### run chop"
   ]
  },
  {
   "cell_type": "code",
   "execution_count": null,
   "id": "e7195d18",
   "metadata": {},
   "outputs": [],
   "source": [
    "from pychop.chop import chop\n",
    "pyq_f = chop('h')\n",
    "pyq_f(X_np)"
   ]
  },
  {
   "cell_type": "code",
   "execution_count": null,
   "id": "21e7b25e-3c45-43d3-8f04-2e01c3208571",
   "metadata": {},
   "outputs": [],
   "source": [
    "print(\"2^\"+str(int(np.log2(pyq_f.u))))"
   ]
  },
  {
   "cell_type": "code",
   "execution_count": null,
   "id": "4dcba563",
   "metadata": {},
   "outputs": [],
   "source": [
    "pychop.backend('torch', 1) # print information\n",
    "pyq_f = chop('h')\n",
    "pyq_f(X_th)"
   ]
  },
  {
   "cell_type": "code",
   "execution_count": null,
   "id": "69f9c9a0",
   "metadata": {},
   "outputs": [],
   "source": [
    "pychop.backend('torch')\n",
    "pyq_f = chop('h', device='cuda')\n",
    "\n",
    "device = torch.device(\"cuda\" if torch.cuda.is_available() else \"cpu\")\n",
    "X_gpu = X_th.to(device)\n",
    "pyq_f(X_gpu)"
   ]
  },
  {
   "cell_type": "code",
   "execution_count": null,
   "id": "9c7f693c",
   "metadata": {},
   "outputs": [],
   "source": [
    "pychop.backend('jax', 1) # print information\n",
    "pyq_f = chop('h')\n",
    "pyq_f(X_jx)"
   ]
  },
  {
   "cell_type": "code",
   "execution_count": null,
   "id": "57db0df9",
   "metadata": {},
   "outputs": [],
   "source": [
    "from pychop.chop import chop\n",
    "pychop.backend('numpy')\n",
    "pyq_f = chop('h', rmode=5, flip=0)\n",
    "pyq_f(X_np)"
   ]
  },
  {
   "cell_type": "code",
   "execution_count": null,
   "id": "f79af559",
   "metadata": {},
   "outputs": [],
   "source": []
  },
  {
   "cell_type": "markdown",
   "id": "22ecc758",
   "metadata": {},
   "source": [
    "### integer quantization"
   ]
  },
  {
   "cell_type": "code",
   "execution_count": null,
   "id": "c29813b0",
   "metadata": {},
   "outputs": [],
   "source": [
    "pychop.backend('numpy')\n",
    "pyq_f = pychop.quant(bits=8)\n",
    "X_q = pyq_f(X_np)\n",
    "X_inv = pyq_f.dequant(X_q)\n",
    "linalg.norm(X_inv - X_np)"
   ]
  },
  {
   "cell_type": "code",
   "execution_count": null,
   "id": "ef762b2a",
   "metadata": {},
   "outputs": [],
   "source": [
    "pychop.backend('torch')\n",
    "pyq_f = pychop.quant(bits=8)\n",
    "X_q = pyq_f(X_th)\n",
    "X_inv = pyq_f.dequant(X_q)\n",
    "linalg.norm(X_inv - X_np)"
   ]
  },
  {
   "cell_type": "code",
   "execution_count": null,
   "id": "ea235d0c",
   "metadata": {},
   "outputs": [],
   "source": [
    "pychop.backend('jax')\n",
    "pyq_f = pychop.quant(bits=8)\n",
    "X_q = pyq_f(X_jx)\n",
    "X_inv = pyq_f.dequant(X_q)\n",
    "linalg.norm(X_inv - X_jx)"
   ]
  },
  {
   "cell_type": "code",
   "execution_count": null,
   "id": "4151a103",
   "metadata": {},
   "outputs": [],
   "source": []
  },
  {
   "cell_type": "markdown",
   "id": "00497bc7",
   "metadata": {},
   "source": [
    "### fixed point quantization"
   ]
  },
  {
   "cell_type": "code",
   "execution_count": null,
   "id": "c2099b89",
   "metadata": {},
   "outputs": [],
   "source": [
    "pychop.backend('numpy')\n",
    "pychop.to_fixed_point(X_np)"
   ]
  },
  {
   "cell_type": "code",
   "execution_count": null,
   "id": "1a320530",
   "metadata": {},
   "outputs": [],
   "source": [
    "pychop.backend('torch')\n",
    "pychop.to_fixed_point(X_th)"
   ]
  },
  {
   "cell_type": "code",
   "execution_count": null,
   "id": "f58d8820",
   "metadata": {},
   "outputs": [],
   "source": [
    "pychop.backend('jax')\n",
    "pychop.to_fixed_point(X_jx)"
   ]
  },
  {
   "cell_type": "code",
   "execution_count": null,
   "id": "5cae364b",
   "metadata": {},
   "outputs": [],
   "source": []
  },
  {
   "cell_type": "code",
   "execution_count": null,
   "id": "1cabd1fd-d5e5-467e-830d-54d639db1833",
   "metadata": {},
   "outputs": [],
   "source": []
  },
  {
   "cell_type": "code",
   "execution_count": null,
   "id": "177a9ceb-4c60-4a9d-a782-a5abcacd8819",
   "metadata": {},
   "outputs": [],
   "source": []
  },
  {
   "cell_type": "code",
   "execution_count": null,
   "id": "31030621-0cd6-4a07-8376-1e1d9e3ebd06",
   "metadata": {},
   "outputs": [],
   "source": []
  }
 ],
 "metadata": {
  "kernelspec": {
   "display_name": "Python 3 (ipykernel)",
   "language": "python",
   "name": "python3"
  },
  "language_info": {
   "codemirror_mode": {
    "name": "ipython",
    "version": 3
   },
   "file_extension": ".py",
   "mimetype": "text/x-python",
   "name": "python",
   "nbconvert_exporter": "python",
   "pygments_lexer": "ipython3",
   "version": "3.11.2"
  }
 },
 "nbformat": 4,
 "nbformat_minor": 5
}
