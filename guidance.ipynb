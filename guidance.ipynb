{
 "cells": [
  {
   "cell_type": "code",
   "execution_count": null,
   "id": "296dd14a",
   "metadata": {},
   "outputs": [],
   "source": [
    "import numpy as np\n",
    "import torch\n",
    "import pychop\n",
    "from numpy import linalg\n",
    "import jax\n",
    "# from pychop.chop import chop\n",
    "# from pychop.quant import quant\n",
    "from time import time\n",
    "np.random.seed(0)"
   ]
  },
  {
   "cell_type": "code",
   "execution_count": 2,
   "id": "ad8e9d84",
   "metadata": {},
   "outputs": [
    {
     "name": "stdout",
     "output_type": "stream",
     "text": [
      "[[ 1.76405235  0.40015721  0.97873798 ... -0.51423397 -1.01804188\n",
      "  -0.07785476]\n",
      " [ 0.38273243 -0.03424228  1.09634685 ...  0.0941923  -1.14761094\n",
      "  -0.35811408]\n",
      " [ 0.55596268  0.89247389 -0.42231482 ... -0.24679356 -1.07934317\n",
      "  -0.11422555]\n",
      " ...\n",
      " [-1.28277909 -0.17950901  0.27819164 ... -1.31869965 -0.22116722\n",
      "   0.41593528]\n",
      " [-1.23162889 -0.51221521  0.12511042 ...  0.84961987 -0.81843243\n",
      "   0.16746637]\n",
      " [-1.09316138 -0.74909675  1.11398219 ... -0.52799973 -0.65857377\n",
      "  -0.55711525]]\n"
     ]
    }
   ],
   "source": [
    "X_np = np.random.randn(500, 500) # Numpy array\n",
    "X_th = torch.Tensor(X_np) # torch array\n",
    "X_jx = jax.numpy.asarray(X_np)\n",
    "print(X_np)"
   ]
  },
  {
   "cell_type": "markdown",
   "id": "e2b51fba",
   "metadata": {},
   "source": [
    "### print unit-roundoff in machine"
   ]
  },
  {
   "cell_type": "code",
   "execution_count": 3,
   "id": "618838ea",
   "metadata": {},
   "outputs": [
    {
     "data": {
      "text/html": [
       "<div>\n",
       "<style scoped>\n",
       "    .dataframe tbody tr th:only-of-type {\n",
       "        vertical-align: middle;\n",
       "    }\n",
       "\n",
       "    .dataframe tbody tr th {\n",
       "        vertical-align: top;\n",
       "    }\n",
       "\n",
       "    .dataframe thead th {\n",
       "        text-align: right;\n",
       "    }\n",
       "</style>\n",
       "<table border=\"1\" class=\"dataframe\">\n",
       "  <thead>\n",
       "    <tr style=\"text-align: right;\">\n",
       "      <th></th>\n",
       "      <th></th>\n",
       "      <th>u</th>\n",
       "      <th>xmins</th>\n",
       "      <th>xmin</th>\n",
       "      <th>xmax</th>\n",
       "      <th>p</th>\n",
       "      <th>emins</th>\n",
       "      <th>emin</th>\n",
       "      <th>emax</th>\n",
       "    </tr>\n",
       "  </thead>\n",
       "  <tbody>\n",
       "    <tr>\n",
       "      <th>0</th>\n",
       "      <td>q43</td>\n",
       "      <td>6.25e-02</td>\n",
       "      <td>1.95e-03</td>\n",
       "      <td>1.56e-02</td>\n",
       "      <td>2.40e+02</td>\n",
       "      <td>4</td>\n",
       "      <td>-9</td>\n",
       "      <td>-6</td>\n",
       "      <td>7</td>\n",
       "    </tr>\n",
       "    <tr>\n",
       "      <th>1</th>\n",
       "      <td>q52</td>\n",
       "      <td>1.25e-01</td>\n",
       "      <td>1.53e-05</td>\n",
       "      <td>6.10e-05</td>\n",
       "      <td>5.73e+04</td>\n",
       "      <td>3</td>\n",
       "      <td>-16</td>\n",
       "      <td>-14</td>\n",
       "      <td>15</td>\n",
       "    </tr>\n",
       "    <tr>\n",
       "      <th>2</th>\n",
       "      <td>b</td>\n",
       "      <td>3.91e-03</td>\n",
       "      <td>9.18e-41</td>\n",
       "      <td>1.18e-38</td>\n",
       "      <td>3.39e+38</td>\n",
       "      <td>8</td>\n",
       "      <td>-133</td>\n",
       "      <td>-126</td>\n",
       "      <td>127</td>\n",
       "    </tr>\n",
       "    <tr>\n",
       "      <th>3</th>\n",
       "      <td>h</td>\n",
       "      <td>4.88e-04</td>\n",
       "      <td>5.96e-08</td>\n",
       "      <td>6.10e-05</td>\n",
       "      <td>6.55e+04</td>\n",
       "      <td>11</td>\n",
       "      <td>-24</td>\n",
       "      <td>-14</td>\n",
       "      <td>15</td>\n",
       "    </tr>\n",
       "    <tr>\n",
       "      <th>4</th>\n",
       "      <td>t</td>\n",
       "      <td>4.88e-04</td>\n",
       "      <td>1.15e-41</td>\n",
       "      <td>1.18e-38</td>\n",
       "      <td>3.40e+38</td>\n",
       "      <td>11</td>\n",
       "      <td>-136</td>\n",
       "      <td>-126</td>\n",
       "      <td>127</td>\n",
       "    </tr>\n",
       "    <tr>\n",
       "      <th>5</th>\n",
       "      <td>s</td>\n",
       "      <td>5.96e-08</td>\n",
       "      <td>1.40e-45</td>\n",
       "      <td>1.18e-38</td>\n",
       "      <td>3.40e+38</td>\n",
       "      <td>24</td>\n",
       "      <td>-149</td>\n",
       "      <td>-126</td>\n",
       "      <td>127</td>\n",
       "    </tr>\n",
       "    <tr>\n",
       "      <th>6</th>\n",
       "      <td>d</td>\n",
       "      <td>1.11e-16</td>\n",
       "      <td>4.94e-324</td>\n",
       "      <td>2.23e-308</td>\n",
       "      <td>1.80e+308</td>\n",
       "      <td>53</td>\n",
       "      <td>-1074</td>\n",
       "      <td>-1022</td>\n",
       "      <td>1023</td>\n",
       "    </tr>\n",
       "    <tr>\n",
       "      <th>7</th>\n",
       "      <td>q</td>\n",
       "      <td>9.63e-35</td>\n",
       "      <td>0.00e+00</td>\n",
       "      <td>0.00e+00</td>\n",
       "      <td>inf</td>\n",
       "      <td>113</td>\n",
       "      <td>-16494</td>\n",
       "      <td>-16382</td>\n",
       "      <td>16383</td>\n",
       "    </tr>\n",
       "  </tbody>\n",
       "</table>\n",
       "</div>"
      ],
      "text/plain": [
       "                u      xmins       xmin       xmax    p    emins     emin  \\\n",
       "0  q43   6.25e-02   1.95e-03   1.56e-02   2.40e+02    4       -9       -6   \n",
       "1  q52   1.25e-01   1.53e-05   6.10e-05   5.73e+04    3      -16      -14   \n",
       "2    b   3.91e-03   9.18e-41   1.18e-38   3.39e+38    8     -133     -126   \n",
       "3    h   4.88e-04   5.96e-08   6.10e-05   6.55e+04   11      -24      -14   \n",
       "4    t   4.88e-04   1.15e-41   1.18e-38   3.40e+38   11     -136     -126   \n",
       "5    s   5.96e-08   1.40e-45   1.18e-38   3.40e+38   24     -149     -126   \n",
       "6    d   1.11e-16  4.94e-324  2.23e-308  1.80e+308   53    -1074    -1022   \n",
       "7    q   9.63e-35   0.00e+00   0.00e+00        inf  113   -16494   -16382   \n",
       "\n",
       "     emax  \n",
       "0       7  \n",
       "1      15  \n",
       "2     127  \n",
       "3      15  \n",
       "4     127  \n",
       "5     127  \n",
       "6    1023  \n",
       "7   16383  "
      ]
     },
     "execution_count": 3,
     "metadata": {},
     "output_type": "execute_result"
    }
   ],
   "source": [
    "from pychop import float_params\n",
    "\n",
    "float_params()"
   ]
  },
  {
   "cell_type": "markdown",
   "id": "f6e72fb9",
   "metadata": {},
   "source": [
    "### set backend"
   ]
  },
  {
   "cell_type": "code",
   "execution_count": 4,
   "id": "36ffc3e8",
   "metadata": {},
   "outputs": [],
   "source": [
    "pychop.backend('torch')"
   ]
  },
  {
   "cell_type": "code",
   "execution_count": 5,
   "id": "9297600d",
   "metadata": {},
   "outputs": [
    {
     "name": "stdout",
     "output_type": "stream",
     "text": [
      "Load NumPy backend.\n"
     ]
    }
   ],
   "source": [
    "pychop.backend('numpy', 1) # print information, NumPy is the default option."
   ]
  },
  {
   "cell_type": "markdown",
   "id": "0417a000",
   "metadata": {},
   "source": [
    "### run chop"
   ]
  },
  {
   "cell_type": "code",
   "execution_count": 6,
   "id": "e7195d18",
   "metadata": {},
   "outputs": [
    {
     "data": {
      "text/plain": [
       "array([[ 1.76367188,  0.40014648,  0.97851562, ..., -0.51416016,\n",
       "        -1.01757812, -0.07788086],\n",
       "       [ 0.3828125 , -0.03424072,  1.09667969, ...,  0.09417725,\n",
       "        -1.14746094, -0.3581543 ],\n",
       "       [ 0.55615234,  0.89257812, -0.42236328, ..., -0.24682617,\n",
       "        -1.07910156, -0.11419678],\n",
       "       ...,\n",
       "       [-1.28320312, -0.17956543,  0.27807617, ..., -1.31835938,\n",
       "        -0.22119141,  0.41601562],\n",
       "       [-1.23144531, -0.51220703,  0.12512207, ...,  0.84960938,\n",
       "        -0.81835938,  0.16748047],\n",
       "       [-1.09277344, -0.74902344,  1.11425781, ..., -0.52783203,\n",
       "        -0.65869141, -0.55712891]])"
      ]
     },
     "execution_count": 6,
     "metadata": {},
     "output_type": "execute_result"
    }
   ],
   "source": [
    "from pychop.chop import chop\n",
    "pyq_f = chop('h')\n",
    "pyq_f(X_np)"
   ]
  },
  {
   "cell_type": "code",
   "execution_count": 7,
   "id": "21e7b25e-3c45-43d3-8f04-2e01c3208571",
   "metadata": {},
   "outputs": [
    {
     "name": "stdout",
     "output_type": "stream",
     "text": [
      "2^-11\n"
     ]
    }
   ],
   "source": [
    "print(\"2^\"+str(int(np.log2(pyq_f.u))))"
   ]
  },
  {
   "cell_type": "code",
   "execution_count": 8,
   "id": "4dcba563",
   "metadata": {},
   "outputs": [
    {
     "name": "stdout",
     "output_type": "stream",
     "text": [
      "Load Troch backend.\n"
     ]
    },
    {
     "data": {
      "text/plain": [
       "tensor([[ 1.7637,  0.4001,  0.9785,  ..., -0.5142, -1.0176, -0.0779],\n",
       "        [ 0.3828, -0.0342,  1.0967,  ...,  0.0942, -1.1475, -0.3582],\n",
       "        [ 0.5562,  0.8926, -0.4224,  ..., -0.2468, -1.0791, -0.1142],\n",
       "        ...,\n",
       "        [-1.2832, -0.1796,  0.2781,  ..., -1.3184, -0.2212,  0.4160],\n",
       "        [-1.2314, -0.5122,  0.1251,  ...,  0.8496, -0.8184,  0.1675],\n",
       "        [-1.0928, -0.7490,  1.1143,  ..., -0.5278, -0.6587, -0.5571]])"
      ]
     },
     "execution_count": 8,
     "metadata": {},
     "output_type": "execute_result"
    }
   ],
   "source": [
    "pychop.backend('torch', 1) # print information\n",
    "pyq_f = chop('h')\n",
    "pyq_f(X_th)"
   ]
  },
  {
   "cell_type": "code",
   "execution_count": 9,
   "id": "69f9c9a0",
   "metadata": {},
   "outputs": [
    {
     "data": {
      "text/plain": [
       "tensor([[ 1.7637,  0.4001,  0.9785,  ..., -0.5142, -1.0176, -0.0779],\n",
       "        [ 0.3828, -0.0342,  1.0967,  ...,  0.0942, -1.1475, -0.3582],\n",
       "        [ 0.5562,  0.8926, -0.4224,  ..., -0.2468, -1.0791, -0.1142],\n",
       "        ...,\n",
       "        [-1.2832, -0.1796,  0.2781,  ..., -1.3184, -0.2212,  0.4160],\n",
       "        [-1.2314, -0.5122,  0.1251,  ...,  0.8496, -0.8184,  0.1675],\n",
       "        [-1.0928, -0.7490,  1.1143,  ..., -0.5278, -0.6587, -0.5571]],\n",
       "       device='cuda:0')"
      ]
     },
     "execution_count": 9,
     "metadata": {},
     "output_type": "execute_result"
    }
   ],
   "source": [
    "pychop.backend('torch')\n",
    "pyq_f = chop('h', device='cuda')\n",
    "\n",
    "device = torch.device(\"cuda\" if torch.cuda.is_available() else \"cpu\")\n",
    "X_gpu = X_th.to(device)\n",
    "pyq_f(X_gpu)"
   ]
  },
  {
   "cell_type": "code",
   "execution_count": 10,
   "id": "9c7f693c",
   "metadata": {},
   "outputs": [
    {
     "name": "stdout",
     "output_type": "stream",
     "text": [
      "Load JAX backend.\n"
     ]
    },
    {
     "data": {
      "text/plain": [
       "Array([[ 1.7636719 ,  0.40014648,  0.9785156 , ..., -0.51416016,\n",
       "        -1.0175781 , -0.07788086],\n",
       "       [ 0.3828125 , -0.03424072,  1.0966797 , ...,  0.09417725,\n",
       "        -1.1474609 , -0.3581543 ],\n",
       "       [ 0.55615234,  0.8925781 , -0.42236328, ..., -0.24682617,\n",
       "        -1.0791016 , -0.11419678],\n",
       "       ...,\n",
       "       [-1.2832031 , -0.17956543,  0.27807617, ..., -1.3183594 ,\n",
       "        -0.2211914 ,  0.41601562],\n",
       "       [-1.2314453 , -0.51220703,  0.12512207, ...,  0.8496094 ,\n",
       "        -0.8183594 ,  0.16748047],\n",
       "       [-1.0927734 , -0.74902344,  1.1142578 , ..., -0.52783203,\n",
       "        -0.6586914 , -0.5571289 ]], dtype=float32)"
      ]
     },
     "execution_count": 10,
     "metadata": {},
     "output_type": "execute_result"
    }
   ],
   "source": [
    "pychop.backend('jax', 1) # print information\n",
    "pyq_f = chop('h')\n",
    "pyq_f(X_jx)"
   ]
  },
  {
   "cell_type": "code",
   "execution_count": 11,
   "id": "57db0df9",
   "metadata": {},
   "outputs": [
    {
     "data": {
      "text/plain": [
       "array([[ 1.76367188,  0.40014648,  0.97851562, ..., -0.51416016,\n",
       "        -1.01855469, -0.07788086],\n",
       "       [ 0.3828125 , -0.03424072,  1.09667969, ...,  0.09417725,\n",
       "        -1.14746094, -0.3581543 ],\n",
       "       [ 0.55615234,  0.89257812, -0.42236328, ..., -0.24682617,\n",
       "        -1.08007812, -0.11425781],\n",
       "       ...,\n",
       "       [-1.28222656, -0.17944336,  0.27807617, ..., -1.31933594,\n",
       "        -0.22119141,  0.41577148],\n",
       "       [-1.23242188, -0.51220703,  0.12512207, ...,  0.84960938,\n",
       "        -0.81835938,  0.16748047],\n",
       "       [-1.09277344, -0.74902344,  1.11425781, ..., -0.52832031,\n",
       "        -0.65869141, -0.55712891]])"
      ]
     },
     "execution_count": 11,
     "metadata": {},
     "output_type": "execute_result"
    }
   ],
   "source": [
    "from pychop.chop import chop\n",
    "pychop.backend('numpy')\n",
    "pyq_f = chop('h', rmode=5, flip=0)\n",
    "pyq_f(X_np)"
   ]
  },
  {
   "cell_type": "code",
   "execution_count": null,
   "id": "f79af559",
   "metadata": {},
   "outputs": [],
   "source": []
  },
  {
   "cell_type": "markdown",
   "id": "22ecc758",
   "metadata": {},
   "source": [
    "### integer quantization"
   ]
  },
  {
   "cell_type": "code",
   "execution_count": 12,
   "id": "c29813b0",
   "metadata": {},
   "outputs": [
    {
     "data": {
      "text/plain": [
       "5.165178960488854"
      ]
     },
     "execution_count": 12,
     "metadata": {},
     "output_type": "execute_result"
    }
   ],
   "source": [
    "pychop.backend('numpy')\n",
    "pyq_f = pychop.quant(bits=8)\n",
    "X_q = pyq_f(X_np)\n",
    "X_inv = pyq_f.dequant(X_q)\n",
    "linalg.norm(X_inv - X_np)"
   ]
  },
  {
   "cell_type": "code",
   "execution_count": 13,
   "id": "ef762b2a",
   "metadata": {},
   "outputs": [
    {
     "data": {
      "text/plain": [
       "5.165179458809817"
      ]
     },
     "execution_count": 13,
     "metadata": {},
     "output_type": "execute_result"
    }
   ],
   "source": [
    "pychop.backend('torch')\n",
    "pyq_f = pychop.quant(bits=8)\n",
    "X_q = pyq_f(X_th)\n",
    "X_inv = pyq_f.dequant(X_q)\n",
    "linalg.norm(X_inv - X_np)"
   ]
  },
  {
   "cell_type": "code",
   "execution_count": 14,
   "id": "ea235d0c",
   "metadata": {},
   "outputs": [
    {
     "data": {
      "text/plain": [
       "5.1651783"
      ]
     },
     "execution_count": 14,
     "metadata": {},
     "output_type": "execute_result"
    }
   ],
   "source": [
    "pychop.backend('jax')\n",
    "pyq_f = pychop.quant(bits=8)\n",
    "X_q = pyq_f(X_jx)\n",
    "X_inv = pyq_f.dequant(X_q)\n",
    "linalg.norm(X_inv - X_jx)"
   ]
  },
  {
   "cell_type": "code",
   "execution_count": null,
   "id": "4151a103",
   "metadata": {},
   "outputs": [],
   "source": []
  },
  {
   "cell_type": "markdown",
   "id": "00497bc7",
   "metadata": {},
   "source": [
    "### fixed point quantization"
   ]
  },
  {
   "cell_type": "code",
   "execution_count": 15,
   "id": "c2099b89",
   "metadata": {},
   "outputs": [
    {
     "data": {
      "text/plain": [
       "array([[ 1.75  ,  0.375 ,  1.    , ..., -0.5   , -1.    , -0.0625],\n",
       "       [ 0.375 , -0.0625,  1.125 , ...,  0.125 , -1.125 , -0.375 ],\n",
       "       [ 0.5625,  0.875 , -0.4375, ..., -0.25  , -1.0625, -0.125 ],\n",
       "       ...,\n",
       "       [-1.3125, -0.1875,  0.25  , ..., -1.3125, -0.25  ,  0.4375],\n",
       "       [-1.25  , -0.5   ,  0.125 , ...,  0.875 , -0.8125,  0.1875],\n",
       "       [-1.0625, -0.75  ,  1.125 , ..., -0.5   , -0.6875, -0.5625]])"
      ]
     },
     "execution_count": 15,
     "metadata": {},
     "output_type": "execute_result"
    }
   ],
   "source": [
    "pychop.backend('numpy')\n",
    "pyq_f = pychop.fpoint()\n",
    "\n",
    "pyq_f(X_np)"
   ]
  },
  {
   "cell_type": "code",
   "execution_count": 16,
   "id": "1a320530",
   "metadata": {},
   "outputs": [
    {
     "data": {
      "text/plain": [
       "tensor([[ 1.7500,  0.3750,  1.0000,  ..., -0.5000, -1.0000, -0.0625],\n",
       "        [ 0.3750, -0.0625,  1.1250,  ...,  0.1250, -1.1250, -0.3750],\n",
       "        [ 0.5625,  0.8750, -0.4375,  ..., -0.2500, -1.0625, -0.1250],\n",
       "        ...,\n",
       "        [-1.3125, -0.1875,  0.2500,  ..., -1.3125, -0.2500,  0.4375],\n",
       "        [-1.2500, -0.5000,  0.1250,  ...,  0.8750, -0.8125,  0.1875],\n",
       "        [-1.0625, -0.7500,  1.1250,  ..., -0.5000, -0.6875, -0.5625]])"
      ]
     },
     "execution_count": 16,
     "metadata": {},
     "output_type": "execute_result"
    }
   ],
   "source": [
    "pychop.backend('torch')\n",
    "pyq_f = pychop.fpoint()\n",
    "pyq_f(X_th)"
   ]
  },
  {
   "cell_type": "code",
   "execution_count": 17,
   "id": "f58d8820",
   "metadata": {},
   "outputs": [
    {
     "data": {
      "text/plain": [
       "Array([[ 1.75  ,  0.375 ,  1.    , ..., -0.5   , -1.    , -0.0625],\n",
       "       [ 0.375 , -0.0625,  1.125 , ...,  0.125 , -1.125 , -0.375 ],\n",
       "       [ 0.5625,  0.875 , -0.4375, ..., -0.25  , -1.0625, -0.125 ],\n",
       "       ...,\n",
       "       [-1.3125, -0.1875,  0.25  , ..., -1.3125, -0.25  ,  0.4375],\n",
       "       [-1.25  , -0.5   ,  0.125 , ...,  0.875 , -0.8125,  0.1875],\n",
       "       [-1.0625, -0.75  ,  1.125 , ..., -0.5   , -0.6875, -0.5625]],      dtype=float32)"
      ]
     },
     "execution_count": 17,
     "metadata": {},
     "output_type": "execute_result"
    }
   ],
   "source": [
    "pychop.backend('jax')\n",
    "pyq_f = pychop.fpoint()\n",
    "pyq_f(X_jx)"
   ]
  },
  {
   "cell_type": "code",
   "execution_count": null,
   "id": "177a9ceb-4c60-4a9d-a782-a5abcacd8819",
   "metadata": {},
   "outputs": [],
   "source": []
  },
  {
   "cell_type": "code",
   "execution_count": null,
   "id": "31030621-0cd6-4a07-8376-1e1d9e3ebd06",
   "metadata": {},
   "outputs": [],
   "source": []
  },
  {
   "cell_type": "code",
   "execution_count": null,
   "id": "9cf31fc0",
   "metadata": {},
   "outputs": [],
   "source": []
  }
 ],
 "metadata": {
  "kernelspec": {
   "display_name": "Python 3 (ipykernel)",
   "language": "python",
   "name": "python3"
  },
  "language_info": {
   "codemirror_mode": {
    "name": "ipython",
    "version": 3
   },
   "file_extension": ".py",
   "mimetype": "text/x-python",
   "name": "python",
   "nbconvert_exporter": "python",
   "pygments_lexer": "ipython3",
   "version": "3.12.4"
  }
 },
 "nbformat": 4,
 "nbformat_minor": 5
}
