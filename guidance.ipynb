{
 "cells": [
  {
   "cell_type": "code",
   "execution_count": 1,
   "id": "296dd14a",
   "metadata": {},
   "outputs": [],
   "source": [
    "import numpy as np\n",
    "import torch\n",
    "import pychop as pychop\n",
    "from pychop.chop import chop\n",
    "from pychop import float_params\n",
    "from time import time\n",
    "from numpy import linalg\n",
    "import jax\n",
    "# from pychop.chop import chop\n",
    "# from pychop.quant import quant\n",
    "from time import time\n",
    "from scipy.io import savemat\n",
    "np.set_printoptions(precision=4)"
   ]
  },
  {
   "cell_type": "code",
   "execution_count": 2,
   "id": "ad8e9d84",
   "metadata": {},
   "outputs": [
    {
     "name": "stdout",
     "output_type": "stream",
     "text": [
      "[[ 1.7641  0.4002  0.9787 ...  0.9292  0.2294  0.4144]\n",
      " [ 0.3097 -0.7375 -1.5369 ...  0.5169 -0.0329  1.2981]\n",
      " [-0.2021 -0.8332  1.7336 ...  0.7531 -0.581  -0.1984]\n",
      " ...\n",
      " [ 1.0743  1.1885  0.5093 ...  0.0705  0.5998 -2.4103]\n",
      " [ 0.3243 -0.0234  1.6287 ... -0.1609 -1.5977  1.4147]\n",
      " [ 0.6346  1.3809  0.5483 ...  0.3076 -0.1108  0.8386]]\n"
     ]
    }
   ],
   "source": [
    "np.random.seed(0)\n",
    "\n",
    "X_np = np.random.randn(5000, 5000) # Numpy array\n",
    "X_th = torch.Tensor(X_np) # torch array\n",
    "X_jx = jax.numpy.asarray(X_np)\n",
    "print(X_np)\n",
    "\n",
    "\n",
    "savemat(\"tests/verify.mat\", {\"X\":X_np})"
   ]
  },
  {
   "cell_type": "markdown",
   "id": "e2b51fba",
   "metadata": {},
   "source": [
    "### print unit-roundoff in machine"
   ]
  },
  {
   "cell_type": "code",
   "execution_count": 3,
   "id": "618838ea",
   "metadata": {},
   "outputs": [
    {
     "data": {
      "text/html": [
       "<div>\n",
       "<style scoped>\n",
       "    .dataframe tbody tr th:only-of-type {\n",
       "        vertical-align: middle;\n",
       "    }\n",
       "\n",
       "    .dataframe tbody tr th {\n",
       "        vertical-align: top;\n",
       "    }\n",
       "\n",
       "    .dataframe thead th {\n",
       "        text-align: right;\n",
       "    }\n",
       "</style>\n",
       "<table border=\"1\" class=\"dataframe\">\n",
       "  <thead>\n",
       "    <tr style=\"text-align: right;\">\n",
       "      <th></th>\n",
       "      <th></th>\n",
       "      <th>u</th>\n",
       "      <th>xmins</th>\n",
       "      <th>xmin</th>\n",
       "      <th>xmax</th>\n",
       "      <th>p</th>\n",
       "      <th>emins</th>\n",
       "      <th>emin</th>\n",
       "      <th>emax</th>\n",
       "    </tr>\n",
       "  </thead>\n",
       "  <tbody>\n",
       "    <tr>\n",
       "      <th>0</th>\n",
       "      <td>q43</td>\n",
       "      <td>6.25e-02</td>\n",
       "      <td>1.95e-03</td>\n",
       "      <td>1.56e-02</td>\n",
       "      <td>2.40e+02</td>\n",
       "      <td>4</td>\n",
       "      <td>-9</td>\n",
       "      <td>-6</td>\n",
       "      <td>7</td>\n",
       "    </tr>\n",
       "    <tr>\n",
       "      <th>1</th>\n",
       "      <td>q52</td>\n",
       "      <td>1.25e-01</td>\n",
       "      <td>1.53e-05</td>\n",
       "      <td>6.10e-05</td>\n",
       "      <td>5.73e+04</td>\n",
       "      <td>3</td>\n",
       "      <td>-16</td>\n",
       "      <td>-14</td>\n",
       "      <td>15</td>\n",
       "    </tr>\n",
       "    <tr>\n",
       "      <th>2</th>\n",
       "      <td>b</td>\n",
       "      <td>3.91e-03</td>\n",
       "      <td>9.18e-41</td>\n",
       "      <td>1.18e-38</td>\n",
       "      <td>3.39e+38</td>\n",
       "      <td>8</td>\n",
       "      <td>-133</td>\n",
       "      <td>-126</td>\n",
       "      <td>127</td>\n",
       "    </tr>\n",
       "    <tr>\n",
       "      <th>3</th>\n",
       "      <td>h</td>\n",
       "      <td>4.88e-04</td>\n",
       "      <td>5.96e-08</td>\n",
       "      <td>6.10e-05</td>\n",
       "      <td>6.55e+04</td>\n",
       "      <td>11</td>\n",
       "      <td>-24</td>\n",
       "      <td>-14</td>\n",
       "      <td>15</td>\n",
       "    </tr>\n",
       "    <tr>\n",
       "      <th>4</th>\n",
       "      <td>t</td>\n",
       "      <td>4.88e-04</td>\n",
       "      <td>1.15e-41</td>\n",
       "      <td>1.18e-38</td>\n",
       "      <td>3.40e+38</td>\n",
       "      <td>11</td>\n",
       "      <td>-136</td>\n",
       "      <td>-126</td>\n",
       "      <td>127</td>\n",
       "    </tr>\n",
       "    <tr>\n",
       "      <th>5</th>\n",
       "      <td>s</td>\n",
       "      <td>5.96e-08</td>\n",
       "      <td>1.40e-45</td>\n",
       "      <td>1.18e-38</td>\n",
       "      <td>3.40e+38</td>\n",
       "      <td>24</td>\n",
       "      <td>-149</td>\n",
       "      <td>-126</td>\n",
       "      <td>127</td>\n",
       "    </tr>\n",
       "    <tr>\n",
       "      <th>6</th>\n",
       "      <td>d</td>\n",
       "      <td>1.11e-16</td>\n",
       "      <td>4.94e-324</td>\n",
       "      <td>2.23e-308</td>\n",
       "      <td>1.80e+308</td>\n",
       "      <td>53</td>\n",
       "      <td>-1074</td>\n",
       "      <td>-1022</td>\n",
       "      <td>1023</td>\n",
       "    </tr>\n",
       "    <tr>\n",
       "      <th>7</th>\n",
       "      <td>q</td>\n",
       "      <td>9.63e-35</td>\n",
       "      <td>0.00e+00</td>\n",
       "      <td>0.00e+00</td>\n",
       "      <td>inf</td>\n",
       "      <td>113</td>\n",
       "      <td>-16494</td>\n",
       "      <td>-16382</td>\n",
       "      <td>16383</td>\n",
       "    </tr>\n",
       "  </tbody>\n",
       "</table>\n",
       "</div>"
      ],
      "text/plain": [
       "                u      xmins       xmin       xmax    p    emins     emin  \\\n",
       "0  q43   6.25e-02   1.95e-03   1.56e-02   2.40e+02    4       -9       -6   \n",
       "1  q52   1.25e-01   1.53e-05   6.10e-05   5.73e+04    3      -16      -14   \n",
       "2    b   3.91e-03   9.18e-41   1.18e-38   3.39e+38    8     -133     -126   \n",
       "3    h   4.88e-04   5.96e-08   6.10e-05   6.55e+04   11      -24      -14   \n",
       "4    t   4.88e-04   1.15e-41   1.18e-38   3.40e+38   11     -136     -126   \n",
       "5    s   5.96e-08   1.40e-45   1.18e-38   3.40e+38   24     -149     -126   \n",
       "6    d   1.11e-16  4.94e-324  2.23e-308  1.80e+308   53    -1074    -1022   \n",
       "7    q   9.63e-35   0.00e+00   0.00e+00        inf  113   -16494   -16382   \n",
       "\n",
       "     emax  \n",
       "0       7  \n",
       "1      15  \n",
       "2     127  \n",
       "3      15  \n",
       "4     127  \n",
       "5     127  \n",
       "6    1023  \n",
       "7   16383  "
      ]
     },
     "execution_count": 3,
     "metadata": {},
     "output_type": "execute_result"
    }
   ],
   "source": [
    "float_params()"
   ]
  },
  {
   "cell_type": "markdown",
   "id": "f6e72fb9",
   "metadata": {},
   "source": [
    "### set backend"
   ]
  },
  {
   "cell_type": "code",
   "execution_count": 4,
   "id": "9297600d",
   "metadata": {},
   "outputs": [
    {
     "name": "stdout",
     "output_type": "stream",
     "text": [
      "Load NumPy backend.\n"
     ]
    }
   ],
   "source": [
    "# pychop.backend('torch')\n",
    "pychop.backend('numpy', 1) # print information, NumPy is the default option."
   ]
  },
  {
   "cell_type": "markdown",
   "id": "0417a000",
   "metadata": {},
   "source": [
    "### run chop"
   ]
  },
  {
   "cell_type": "code",
   "execution_count": 6,
   "id": "3ade7038-b100-46ee-8f12-45147d0f2047",
   "metadata": {},
   "outputs": [
    {
     "name": "stdout",
     "output_type": "stream",
     "text": [
      "runtime: 1.601654052734375\n",
      "[[ 1.7637e+00  4.0015e-01  9.7852e-01  2.2402e+00  1.8672e+00]\n",
      " [ 3.0981e-01 -7.3730e-01 -1.5371e+00 -5.6201e-01 -1.5996e+00]\n",
      " [-2.0215e-01 -8.3301e-01  1.7334e+00  1.9067e-01 -1.7786e-01]\n",
      " [ 2.4707e+00  5.8691e-01 -3.9746e-01  4.3359e-01  5.0049e-01]\n",
      " [ 3.3008e-01 -4.7994e-04  8.1836e-01  4.2822e-01 -2.5039e+00]\n",
      " [ 3.0200e-01  1.4673e-01  6.1035e-01  1.5518e+00  1.2192e-02]\n",
      " [ 3.7134e-01  3.0469e-01  5.0391e-01  1.3525e-01  6.5381e-01]\n",
      " [ 3.8721e-01  1.3926e+00 -8.5254e-01 -1.9922e-01 -3.2568e-01]\n",
      " [-1.9395e+00  7.3877e-01  1.3945e+00 -8.1348e-01 -8.1885e-01]\n",
      " [ 5.6152e-01 -1.3281e+00  4.4952e-02  1.7764e+00  3.6230e-01]]\n"
     ]
    }
   ],
   "source": [
    "pyq_f = chop('h')\n",
    "st = time()\n",
    "X_bit = pyq_f(X_np)\n",
    "print(\"runtime:\", time() - st)\n",
    "print(X_bit[:10, :5])"
   ]
  },
  {
   "cell_type": "code",
   "execution_count": 8,
   "id": "85fc1f6e-676a-4a02-aba8-0c8bda254f25",
   "metadata": {},
   "outputs": [
    {
     "name": "stdout",
     "output_type": "stream",
     "text": [
      "runtime: 69.79691171646118\n",
      "[[ 1.7637e+00  4.0015e-01  9.7852e-01  2.2402e+00  1.8672e+00]\n",
      " [ 3.0957e-01 -7.3730e-01 -1.5371e+00 -5.6201e-01 -1.5996e+00]\n",
      " [-2.0215e-01 -8.3301e-01  1.7334e+00  1.9067e-01 -1.7773e-01]\n",
      " [ 2.4688e+00  5.8691e-01 -3.9746e-01  4.3359e-01  5.0000e-01]\n",
      " [ 3.3008e-01 -4.7994e-04  8.1836e-01  4.2822e-01 -2.5039e+00]\n",
      " [ 3.0200e-01  1.4673e-01  6.1035e-01  1.5518e+00  1.2192e-02]\n",
      " [ 3.7109e-01  3.0469e-01  5.0391e-01  1.3525e-01  6.5332e-01]\n",
      " [ 3.8721e-01  1.3926e+00 -8.5254e-01 -1.9922e-01 -3.2568e-01]\n",
      " [-1.9395e+00  7.3877e-01  1.3945e+00 -8.1348e-01 -8.1836e-01]\n",
      " [ 5.6152e-01 -1.3281e+00  4.4922e-02  1.7764e+00  3.6230e-01]]\n"
     ]
    }
   ],
   "source": [
    "from pychop.bitchop import bitchop\n",
    "pychop.backend('numpy')\n",
    "\n",
    "pyq_f = bitchop(exp_bits=5, sig_bits=10, rmode=1, subnormal=True, random_state=42, device=\"cpu\", verbose=0)\n",
    "st = time()\n",
    "X_bit = pyq_f(X_np)\n",
    "print(\"runtime:\", time() - st)\n",
    "print(X_bit[:10, :5])"
   ]
  },
  {
   "cell_type": "code",
   "execution_count": null,
   "id": "21e7b25e-3c45-43d3-8f04-2e01c3208571",
   "metadata": {},
   "outputs": [],
   "source": [
    "print(\"2^\"+str(int(np.log2(pyq_f.u))))"
   ]
  },
  {
   "cell_type": "code",
   "execution_count": 4,
   "id": "56faf742-e8cf-4665-bb8a-eaf6f93f43de",
   "metadata": {},
   "outputs": [
    {
     "name": "stdout",
     "output_type": "stream",
     "text": [
      "Load Troch backend.\n",
      "runtime: 2.3097269535064697\n",
      "tensor([[ 1.7637,  0.4001,  0.9785,  ...,  0.9292,  0.2294,  0.4143],\n",
      "        [ 0.3098, -0.7373, -1.5371,  ...,  0.5171, -0.0329,  1.2979],\n",
      "        [-0.2021, -0.8330,  1.7334,  ...,  0.7529, -0.5811, -0.1984],\n",
      "        ...,\n",
      "        [-0.9595, -1.0127,  0.3489,  ..., -0.3508, -1.2275, -0.9102],\n",
      "        [ 0.4792,  0.1483,  1.4375,  ...,  0.8120,  1.3428,  0.1327],\n",
      "        [ 0.3562, -0.3137, -0.6094,  ..., -0.1802, -2.8457, -0.4275]])\n"
     ]
    }
   ],
   "source": [
    "pychop.backend('torch', 1) # print information\n",
    "pyq_f = chop('h')\n",
    "st = time()\n",
    "X_bit = pyq_f(X_th)\n",
    "print(\"runtime:\", time() - st)\n",
    "print(X_bit)"
   ]
  },
  {
   "cell_type": "code",
   "execution_count": 12,
   "id": "4dcba563",
   "metadata": {},
   "outputs": [
    {
     "name": "stdout",
     "output_type": "stream",
     "text": [
      "Load Troch backend.\n",
      "runtime: 1.618636131286621\n",
      "tensor([[ 1.7637,  0.4001,  0.9785,  ...,  0.9292,  0.2294,  0.4143],\n",
      "        [ 0.3098, -0.7373, -1.5371,  ...,  0.5171, -0.0329,  1.2979],\n",
      "        [-0.2021, -0.8330,  1.7334,  ...,  0.7529, -0.5811, -0.1984],\n",
      "        ...,\n",
      "        [-0.9595, -1.0127,  0.3489,  ..., -0.3508, -1.2275, -0.9102],\n",
      "        [ 0.4792,  0.1483,  1.4375,  ...,  0.8120,  1.3428,  0.1327],\n",
      "        [ 0.3562, -0.3137, -0.6094,  ..., -0.1802, -2.8457, -0.4275]])\n"
     ]
    }
   ],
   "source": [
    "pychop.backend('torch', 1) # print information\n",
    "pyq_f = chop('h')\n",
    "st = time()\n",
    "X_bit = pyq_f(X_th)\n",
    "print(\"runtime:\", time() - st)\n",
    "print(X_bit)"
   ]
  },
  {
   "cell_type": "code",
   "execution_count": 5,
   "id": "01b59fd0-ed01-4ac7-98c2-0741e84f032c",
   "metadata": {},
   "outputs": [
    {
     "name": "stdout",
     "output_type": "stream",
     "text": [
      "Load Troch backend.\n",
      "runtime: 1.661458969116211\n",
      "tensor([[ 1.7637,  0.4001,  0.9785,  ...,  0.9292,  0.2294,  0.4143],\n",
      "        [ 0.3098, -0.7373, -1.5371,  ...,  0.5171, -0.0329,  1.2979],\n",
      "        [-0.2021, -0.8330,  1.7334,  ...,  0.7529, -0.5811, -0.1984],\n",
      "        ...,\n",
      "        [-0.9595, -1.0127,  0.3489,  ..., -0.3508, -1.2275, -0.9102],\n",
      "        [ 0.4792,  0.1483,  1.4375,  ...,  0.8120,  1.3428,  0.1327],\n",
      "        [ 0.3562, -0.3137, -0.6094,  ..., -0.1802, -2.8457, -0.4275]])\n"
     ]
    }
   ],
   "source": [
    "pychop.backend('torch', 1) # print information\n",
    "pyq_f = chop('h')\n",
    "st = time()\n",
    "X_bit = pyq_f(X_th)\n",
    "print(\"runtime:\", time() - st)\n",
    "print(X_bit)"
   ]
  },
  {
   "cell_type": "code",
   "execution_count": 5,
   "id": "f41588af-709c-4f28-91f6-e1e5df0421e5",
   "metadata": {},
   "outputs": [
    {
     "name": "stdout",
     "output_type": "stream",
     "text": [
      "Load Troch backend.\n",
      "runtime: 1.7425360679626465\n",
      "tensor([[1.7637, 0.4001, 0.9785,  ..., 0.9292, 0.2294, 0.4143],\n",
      "        [0.3098, 0.7373, 1.5371,  ..., 0.5171, 0.0329, 1.2979],\n",
      "        [0.2021, 0.8330, 1.7334,  ..., 0.7529, 0.5811, 0.1984],\n",
      "        ...,\n",
      "        [0.9595, 1.0127, 0.3489,  ..., 0.3508, 1.2275, 0.9102],\n",
      "        [0.4792, 0.1483, 1.4375,  ..., 0.8120, 1.3428, 0.1327],\n",
      "        [0.3562, 0.3137, 0.6094,  ..., 0.1802, 2.8457, 0.4275]])\n"
     ]
    }
   ],
   "source": [
    "pychop.backend('torch', 1) # print information\n",
    "pyq_f = chop('h')\n",
    "st = time()\n",
    "X_bit = pyq_f(X_th)\n",
    "print(\"runtime:\", time() - st)\n",
    "print(X_bit)"
   ]
  },
  {
   "cell_type": "raw",
   "id": "57b1a7c5-d1c8-4850-8dc4-a1af7b1417a3",
   "metadata": {},
   "source": [
    "pychop.backend('torch')\n",
    "pyq_f = chop('h', device='cuda')\n",
    "\n",
    "device = torch.device(\"cuda\" if torch.cuda.is_available() else \"cpu\")\n",
    "X_gpu = X_th.to(device)\n",
    "pyq_f(X_gpu)"
   ]
  },
  {
   "cell_type": "code",
   "execution_count": 3,
   "id": "9c7f693c",
   "metadata": {},
   "outputs": [
    {
     "name": "stdout",
     "output_type": "stream",
     "text": [
      "Load JAX backend.\n"
     ]
    }
   ],
   "source": [
    "pychop.backend('jax', 1) # print information\n",
    "\n",
    "pyq_f = chop('h')\n"
   ]
  },
  {
   "cell_type": "code",
   "execution_count": 5,
   "id": "3c08dc8b-2ae6-4448-af2d-903ec5206664",
   "metadata": {},
   "outputs": [
    {
     "name": "stdout",
     "output_type": "stream",
     "text": [
      "runtime: 15.599064111709595\n",
      "[[ 1.7636719   0.40014648  0.9785156  ...  0.9291992   0.22937012\n",
      "   0.41430664]\n",
      " [ 0.30981445 -0.7373047  -1.5371094  ...  0.51708984 -0.03292847\n",
      "   1.2978516 ]\n",
      " [-0.20214844 -0.8330078   1.7333984  ...  0.7529297  -0.5810547\n",
      "  -0.19836426]\n",
      " ...\n",
      " [-0.95947266 -1.0126953   0.34887695 ... -0.35083008 -1.2275391\n",
      "  -0.91015625]\n",
      " [ 0.47924805  0.14831543  1.4375     ...  0.8120117   1.3427734\n",
      "   0.13269043]\n",
      " [ 0.35620117 -0.3137207  -0.609375   ... -0.18017578 -2.8457031\n",
      "  -0.42749023]]\n"
     ]
    }
   ],
   "source": [
    "st = time()\n",
    "X_bit = pyq_f(X_jx)\n",
    "print(\"runtime:\", time() - st)\n",
    "print(X_bit)"
   ]
  },
  {
   "cell_type": "code",
   "execution_count": null,
   "id": "df8c581d-5e6a-44b1-8971-efdfd65aa48f",
   "metadata": {},
   "outputs": [],
   "source": []
  },
  {
   "cell_type": "code",
   "execution_count": null,
   "id": "4d1d9ad4-edb8-4166-82b0-02a5674c7a22",
   "metadata": {},
   "outputs": [],
   "source": [
    "pychop.backend('jax', 1) # print information\n",
    "st = time()\n",
    "pyq_f = chop('h')\n",
    "X_bit = pyq_f(X_jx)\n",
    "print(\"runtime:\", time() - st)\n",
    "print(X_bit)"
   ]
  },
  {
   "cell_type": "code",
   "execution_count": null,
   "id": "57db0df9",
   "metadata": {},
   "outputs": [],
   "source": [
    "from pychop.chop import chop\n",
    "pychop.backend('numpy')\n",
    "pyq_f = chop('h', rmode=5, flip=0)\n",
    "pyq_f(X_np)"
   ]
  },
  {
   "cell_type": "code",
   "execution_count": null,
   "id": "f79af559",
   "metadata": {},
   "outputs": [],
   "source": []
  },
  {
   "cell_type": "markdown",
   "id": "22ecc758",
   "metadata": {},
   "source": [
    "### integer quantization"
   ]
  },
  {
   "cell_type": "code",
   "execution_count": null,
   "id": "c29813b0",
   "metadata": {},
   "outputs": [],
   "source": [
    "pychop.backend('numpy')\n",
    "pyq_f = pychop.quant(bits=8)\n",
    "X_q = pyq_f(X_np)\n",
    "X_inv = pyq_f.dequant(X_q)\n",
    "linalg.norm(X_inv - X_np)"
   ]
  },
  {
   "cell_type": "code",
   "execution_count": null,
   "id": "ef762b2a",
   "metadata": {},
   "outputs": [],
   "source": [
    "pychop.backend('torch')\n",
    "pyq_f = pychop.quant(bits=8)\n",
    "X_q = pyq_f(X_th)\n",
    "X_inv = pyq_f.dequant(X_q)\n",
    "linalg.norm(X_inv - X_np)"
   ]
  },
  {
   "cell_type": "code",
   "execution_count": null,
   "id": "ea235d0c",
   "metadata": {},
   "outputs": [],
   "source": [
    "pychop.backend('jax')\n",
    "pyq_f = pychop.quant(bits=8)\n",
    "X_q = pyq_f(X_jx)\n",
    "X_inv = pyq_f.dequant(X_q)\n",
    "linalg.norm(X_inv - X_jx)"
   ]
  },
  {
   "cell_type": "code",
   "execution_count": null,
   "id": "4151a103",
   "metadata": {},
   "outputs": [],
   "source": []
  },
  {
   "cell_type": "markdown",
   "id": "00497bc7",
   "metadata": {},
   "source": [
    "### fixed point quantization"
   ]
  },
  {
   "cell_type": "code",
   "execution_count": null,
   "id": "c2099b89",
   "metadata": {},
   "outputs": [],
   "source": [
    "pychop.backend('numpy')\n",
    "pyq_f = pychop.fpoint()\n",
    "\n",
    "pyq_f(X_np)"
   ]
  },
  {
   "cell_type": "code",
   "execution_count": null,
   "id": "1a320530",
   "metadata": {},
   "outputs": [],
   "source": [
    "pychop.backend('torch')\n",
    "pyq_f = pychop.fpoint()\n",
    "pyq_f(X_th)"
   ]
  },
  {
   "cell_type": "code",
   "execution_count": null,
   "id": "f58d8820",
   "metadata": {},
   "outputs": [],
   "source": [
    "pychop.backend('jax')\n",
    "pyq_f = pychop.fpoint()\n",
    "pyq_f(X_jx)"
   ]
  },
  {
   "cell_type": "code",
   "execution_count": null,
   "id": "177a9ceb-4c60-4a9d-a782-a5abcacd8819",
   "metadata": {},
   "outputs": [],
   "source": []
  },
  {
   "cell_type": "code",
   "execution_count": null,
   "id": "31030621-0cd6-4a07-8376-1e1d9e3ebd06",
   "metadata": {},
   "outputs": [],
   "source": []
  },
  {
   "cell_type": "code",
   "execution_count": null,
   "id": "9cf31fc0",
   "metadata": {},
   "outputs": [],
   "source": []
  },
  {
   "cell_type": "code",
   "execution_count": null,
   "id": "f05eca45-ff22-4368-a68a-8fd4c6728f8c",
   "metadata": {},
   "outputs": [],
   "source": []
  }
 ],
 "metadata": {
  "kernelspec": {
   "display_name": "Python 3 (ipykernel)",
   "language": "python",
   "name": "python3"
  },
  "language_info": {
   "codemirror_mode": {
    "name": "ipython",
    "version": 3
   },
   "file_extension": ".py",
   "mimetype": "text/x-python",
   "name": "python",
   "nbconvert_exporter": "python",
   "pygments_lexer": "ipython3",
   "version": "3.12.4"
  }
 },
 "nbformat": 4,
 "nbformat_minor": 5
}
