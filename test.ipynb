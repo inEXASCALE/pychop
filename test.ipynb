{
 "cells": [
  {
   "cell_type": "code",
   "execution_count": 1,
   "id": "296dd14a",
   "metadata": {},
   "outputs": [],
   "source": [
    "import numpy as np\n",
    "import torch\n",
    "import pychop\n",
    "from pychop.chop import chop\n",
    "from pychop.quant import quant\n",
    "from time import time"
   ]
  },
  {
   "cell_type": "code",
   "execution_count": 2,
   "id": "ad8e9d84",
   "metadata": {},
   "outputs": [],
   "source": [
    "X_np = np.random.randn(5000, 5000) # Numpy array\n",
    "X = torch.Tensor(X_np) # torch array"
   ]
  },
  {
   "cell_type": "code",
   "execution_count": 3,
   "id": "0c7593b7",
   "metadata": {},
   "outputs": [
    {
     "name": "stdout",
     "output_type": "stream",
     "text": [
      "numpy\n"
     ]
    },
    {
     "data": {
      "text/plain": [
       "tensor([[ 0.1250, -0.5000,  0.4375,  ..., -0.3750,  0.0625,  0.7500],\n",
       "        [ 0.2500, -2.1875, -0.8125,  ...,  0.5625,  1.0000, -0.3750],\n",
       "        [ 0.4375,  0.7500,  1.1875,  ...,  0.1250,  1.8125, -0.5625],\n",
       "        ...,\n",
       "        [ 0.2500, -1.5000,  0.2500,  ...,  3.6250, -0.3125, -0.1875],\n",
       "        [-0.0000,  0.5625, -0.5000,  ..., -0.5625,  1.1250, -0.3125],\n",
       "        [-0.9375,  0.3125,  0.2500,  ..., -0.6250,  0.1250, -0.2500]])"
      ]
     },
     "execution_count": 3,
     "metadata": {},
     "output_type": "execute_result"
    }
   ],
   "source": [
    "pychop.to_fixed_point(X)"
   ]
  },
  {
   "cell_type": "code",
   "execution_count": 4,
   "id": "e7195d18",
   "metadata": {},
   "outputs": [
    {
     "data": {
      "text/plain": [
       "array([[ 0.07757568,  0.14916992, -0.06958008, ...,  0.57763672,\n",
       "        -1.36425781,  0.35083008],\n",
       "       [ 0.74804688, -1.18164062,  0.85009766, ...,  1.35253906,\n",
       "         0.41113281,  1.20117188],\n",
       "       [-0.00433731, -1.33886719, -1.32519531, ...,  1.15332031,\n",
       "         0.37011719,  0.92480469],\n",
       "       ...,\n",
       "       [-0.39306641, -0.02983093, -0.00984192, ...,  0.05960083,\n",
       "        -1.05664062,  0.19311523],\n",
       "       [-1.38476562, -0.38208008,  0.40283203, ..., -0.17810059,\n",
       "         1.23046875, -0.29150391],\n",
       "       [ 0.37915039,  0.05490112, -0.01125336, ..., -0.69726562,\n",
       "         0.05987549,  3.1640625 ]])"
      ]
     },
     "execution_count": 4,
     "metadata": {},
     "output_type": "execute_result"
    }
   ],
   "source": [
    "pychop.backend('numpy')\n",
    "pyq_f = chop('h')\n",
    "pyq_f(X_np)"
   ]
  },
  {
   "cell_type": "code",
   "execution_count": 5,
   "id": "1fc33dcf",
   "metadata": {},
   "outputs": [],
   "source": [
    "pychop.backend('torch')\n",
    "pyq_f = chop('h', device='cuda')\n",
    "\n",
    "device = torch.device(\"cuda\" if torch.cuda.is_available() else \"cpu\")\n",
    "X_gpu = X.to(device)"
   ]
  },
  {
   "cell_type": "code",
   "execution_count": 6,
   "id": "3ee08395",
   "metadata": {},
   "outputs": [
    {
     "data": {
      "text/plain": [
       "tensor([[-1.5205,  0.2493,  0.5713,  ...,  0.6880, -1.0352, -0.0603],\n",
       "        [-0.5664, -1.6699, -0.8940,  ...,  1.1475, -0.7046,  0.5986],\n",
       "        [ 0.7534, -0.4973, -0.1455,  ...,  0.5312, -0.4556, -2.1406],\n",
       "        ...,\n",
       "        [ 2.1777,  0.6377,  1.6133,  ..., -0.4016,  1.3779, -1.3828],\n",
       "        [-0.3909, -0.1877,  1.8037,  ..., -1.7988,  0.0443, -0.1127],\n",
       "        [-0.0245, -1.0361, -0.2117,  ..., -0.9258, -1.0400,  0.7295]],\n",
       "       device='cuda:0')"
      ]
     },
     "execution_count": 6,
     "metadata": {},
     "output_type": "execute_result"
    }
   ],
   "source": [
    "pyq_f(X_gpu)"
   ]
  },
  {
   "cell_type": "code",
   "execution_count": 12,
   "id": "57db0df9",
   "metadata": {},
   "outputs": [
    {
     "data": {
      "text/plain": [
       "array([[ 0.22277832, -0.89160156,  2.75195312, ..., -1.64160156,\n",
       "        -1.18652344,  0.68457031],\n",
       "       [ 0.15332031, -0.79199219, -0.70849609, ..., -1.54785156,\n",
       "         0.88720703, -0.77490234],\n",
       "       [-1.37402344, -2.13867188, -1.8359375 , ..., -1.13574219,\n",
       "         0.43041992,  0.98046875],\n",
       "       ...,\n",
       "       [-0.36279297, -1.02636719, -1.31445312, ...,  0.33862305,\n",
       "         0.34448242, -0.10742188],\n",
       "       [-1.31738281, -0.40893555,  0.35620117, ..., -0.90966797,\n",
       "         1.24609375, -1.453125  ],\n",
       "       [ 0.08325195,  1.33789062,  0.33520508, ..., -0.27880859,\n",
       "         0.859375  ,  1.75      ]])"
      ]
     },
     "execution_count": 12,
     "metadata": {},
     "output_type": "execute_result"
    }
   ],
   "source": [
    "from pychop.chop import chop\n",
    "pyq_f = chop('h', flip=0)\n",
    "pyq_f(X_np)"
   ]
  },
  {
   "cell_type": "code",
   "execution_count": 8,
   "id": "c29813b0",
   "metadata": {},
   "outputs": [],
   "source": [
    "pyq_f = quant()"
   ]
  },
  {
   "cell_type": "code",
   "execution_count": 9,
   "id": "ef762b2a",
   "metadata": {},
   "outputs": [
    {
     "data": {
      "text/plain": [
       "tensor([[ 21,  10, -14,  ...,   7,  11, -17],\n",
       "        [ 42,  17, -40,  ...,  -2,  10, -40],\n",
       "        [ -7,  -5,  -2,  ..., -47,   4,  16],\n",
       "        ...,\n",
       "        [ -7,  48, -14,  ..., -25,  36, -12],\n",
       "        [  8,  36,   9,  ..., -21, -22,  -4],\n",
       "        [ 24,   9,   1,  ...,  -6,   5,  11]], dtype=torch.int8)"
      ]
     },
     "execution_count": 9,
     "metadata": {},
     "output_type": "execute_result"
    }
   ],
   "source": [
    "X_q = pyq_f(X)\n",
    "X_q"
   ]
  },
  {
   "cell_type": "code",
   "execution_count": 10,
   "id": "8d0b3068",
   "metadata": {},
   "outputs": [
    {
     "data": {
      "text/plain": [
       "tensor([[ 21,  10, -14,  ...,   7,  11, -17],\n",
       "        [ 42,  17, -40,  ...,  -2,  10, -40],\n",
       "        [ -7,  -5,  -2,  ..., -47,   4,  16],\n",
       "        ...,\n",
       "        [ -7,  48, -14,  ..., -25,  36, -12],\n",
       "        [  8,  36,   9,  ..., -21, -22,  -4],\n",
       "        [ 24,   9,   1,  ...,  -6,   5,  11]], device='cuda:0',\n",
       "       dtype=torch.int8)"
      ]
     },
     "execution_count": 10,
     "metadata": {},
     "output_type": "execute_result"
    }
   ],
   "source": [
    "X_q = pyq_f(X_gpu)\n",
    "X_q"
   ]
  },
  {
   "cell_type": "code",
   "execution_count": 11,
   "id": "01915966",
   "metadata": {},
   "outputs": [
    {
     "data": {
      "text/plain": [
       "tensor([[ 1.1499e+00,  6.8225e-01, -3.3806e-01,  ...,  5.5471e-01,\n",
       "          7.2476e-01, -4.6560e-01],\n",
       "        [ 2.0427e+00,  9.7984e-01, -1.4434e+00,  ...,  1.7210e-01,\n",
       "          6.8225e-01, -1.4434e+00],\n",
       "        [-4.0468e-02,  4.4558e-02,  1.7210e-01,  ..., -1.7410e+00,\n",
       "          4.2717e-01,  9.3733e-01],\n",
       "        ...,\n",
       "        [-4.0468e-02,  2.2977e+00, -3.3806e-01,  ..., -8.0570e-01,\n",
       "          1.7876e+00, -2.5303e-01],\n",
       "        [ 5.9723e-01,  1.7876e+00,  6.3974e-01,  ..., -6.3565e-01,\n",
       "         -6.7816e-01,  8.7071e-02],\n",
       "        [ 1.2774e+00,  6.3974e-01,  2.9964e-01,  ...,  2.0448e-03,\n",
       "          4.6969e-01,  7.2476e-01]], device='cuda:0')"
      ]
     },
     "execution_count": 11,
     "metadata": {},
     "output_type": "execute_result"
    }
   ],
   "source": [
    "pyq_f.dequant(X_q)"
   ]
  },
  {
   "cell_type": "code",
   "execution_count": 9,
   "id": "ef6f0e70",
   "metadata": {},
   "outputs": [],
   "source": [
    "from pychop.jx.chop import chop"
   ]
  },
  {
   "cell_type": "code",
   "execution_count": 10,
   "id": "1384e89c",
   "metadata": {},
   "outputs": [],
   "source": [
    "pyq_f = chop('h', flip=0)"
   ]
  },
  {
   "cell_type": "code",
   "execution_count": 11,
   "id": "daaa1731",
   "metadata": {},
   "outputs": [
    {
     "data": {
      "text/plain": [
       "Array([[ 0.22277832, -0.89160156,  2.7519531 , ..., -1.6416016 ,\n",
       "        -1.1865234 ,  0.6845703 ],\n",
       "       [ 0.15332031, -0.7919922 , -0.7084961 , ..., -1.5478516 ,\n",
       "         0.88720703, -0.77490234],\n",
       "       [-1.3740234 , -2.1386719 , -1.8359375 , ..., -1.1357422 ,\n",
       "         0.43041992,  0.98046875],\n",
       "       ...,\n",
       "       [-0.36279297, -1.0263672 , -1.3144531 , ...,  0.33862305,\n",
       "         0.34448242, -0.10742188],\n",
       "       [-1.3173828 , -0.40893555,  0.35620117, ..., -0.90966797,\n",
       "         1.2460938 , -1.453125  ],\n",
       "       [ 0.08325195,  1.3378906 ,  0.33520508, ..., -0.2788086 ,\n",
       "         0.859375  ,  1.75      ]], dtype=float32)"
      ]
     },
     "execution_count": 11,
     "metadata": {},
     "output_type": "execute_result"
    }
   ],
   "source": [
    "import jax\n",
    "\n",
    "pyq_f(jax.numpy.asarray(X_np))"
   ]
  },
  {
   "cell_type": "code",
   "execution_count": 7,
   "id": "e283705d",
   "metadata": {},
   "outputs": [
    {
     "ename": "TypeError",
     "evalue": "'<class 'jaxlib.xla_extension.ArrayImpl'>' object does not support item assignment. JAX arrays are immutable. Instead of ``x[idx] = y``, use ``x = x.at[idx].set(y)`` or another .at[] method: https://jax.readthedocs.io/en/latest/_autosummary/jax.numpy.ndarray.at.html",
     "output_type": "error",
     "traceback": [
      "\u001b[0;31m---------------------------------------------------------------------------\u001b[0m",
      "\u001b[0;31mTypeError\u001b[0m                                 Traceback (most recent call last)",
      "Cell \u001b[0;32mIn[7], line 2\u001b[0m\n\u001b[1;32m      1\u001b[0m jnp \u001b[38;5;241m=\u001b[39m jax\u001b[38;5;241m.\u001b[39mnumpy\u001b[38;5;241m.\u001b[39masarray(X_np)\n\u001b[0;32m----> 2\u001b[0m jnp[jnp \u001b[38;5;241m>\u001b[39m \u001b[38;5;241m1\u001b[39m] \u001b[38;5;241m=\u001b[39m \u001b[38;5;241m3\u001b[39m\n",
      "File \u001b[0;32m~/anaconda3/lib/python3.11/site-packages/jax/_src/numpy/array_methods.py:270\u001b[0m, in \u001b[0;36m_unimplemented_setitem\u001b[0;34m(self, i, x)\u001b[0m\n\u001b[1;32m    265\u001b[0m \u001b[38;5;28;01mdef\u001b[39;00m \u001b[38;5;21m_unimplemented_setitem\u001b[39m(\u001b[38;5;28mself\u001b[39m, i, x):\n\u001b[1;32m    266\u001b[0m   msg \u001b[38;5;241m=\u001b[39m (\u001b[38;5;124m\"\u001b[39m\u001b[38;5;124m'\u001b[39m\u001b[38;5;132;01m{}\u001b[39;00m\u001b[38;5;124m'\u001b[39m\u001b[38;5;124m object does not support item assignment. JAX arrays are \u001b[39m\u001b[38;5;124m\"\u001b[39m\n\u001b[1;32m    267\u001b[0m          \u001b[38;5;124m\"\u001b[39m\u001b[38;5;124mimmutable. Instead of ``x[idx] = y``, use ``x = x.at[idx].set(y)`` \u001b[39m\u001b[38;5;124m\"\u001b[39m\n\u001b[1;32m    268\u001b[0m          \u001b[38;5;124m\"\u001b[39m\u001b[38;5;124mor another .at[] method: \u001b[39m\u001b[38;5;124m\"\u001b[39m\n\u001b[1;32m    269\u001b[0m          \u001b[38;5;124m\"\u001b[39m\u001b[38;5;124mhttps://jax.readthedocs.io/en/latest/_autosummary/jax.numpy.ndarray.at.html\u001b[39m\u001b[38;5;124m\"\u001b[39m)\n\u001b[0;32m--> 270\u001b[0m   \u001b[38;5;28;01mraise\u001b[39;00m \u001b[38;5;167;01mTypeError\u001b[39;00m(msg\u001b[38;5;241m.\u001b[39mformat(\u001b[38;5;28mtype\u001b[39m(\u001b[38;5;28mself\u001b[39m)))\n",
      "\u001b[0;31mTypeError\u001b[0m: '<class 'jaxlib.xla_extension.ArrayImpl'>' object does not support item assignment. JAX arrays are immutable. Instead of ``x[idx] = y``, use ``x = x.at[idx].set(y)`` or another .at[] method: https://jax.readthedocs.io/en/latest/_autosummary/jax.numpy.ndarray.at.html"
     ]
    }
   ],
   "source": [
    "\n",
    "jnp = jax.numpy.asarray(X_np)\n",
    "jnp[jnp > 1] = 3"
   ]
  },
  {
   "cell_type": "code",
   "execution_count": 16,
   "id": "3ca38959",
   "metadata": {},
   "outputs": [
    {
     "data": {
      "text/plain": [
       "Array([0, 0, 0], dtype=int32)"
      ]
     },
     "execution_count": 16,
     "metadata": {},
     "output_type": "execute_result"
    }
   ],
   "source": [
    "from jax import random\n",
    "key = random.key(1)\n",
    "random.randint(key, shape=(3, ), minval=0, maxval=1)\n"
   ]
  },
  {
   "cell_type": "code",
   "execution_count": 9,
   "id": "4a568a46",
   "metadata": {},
   "outputs": [
    {
     "data": {
      "text/plain": [
       "Array([[-2.0479598 ,  0.        ,  0.        , ...,  0.89571846,\n",
       "        -0.17137416, -0.01463014],\n",
       "       [ 0.        ,  0.5509474 ,  0.04508554, ..., -0.96783084,\n",
       "         0.9529769 ,  0.65047157],\n",
       "       [-0.26722014,  0.        ,  0.36949125, ...,  0.        ,\n",
       "        -2.0251095 ,  0.6836732 ],\n",
       "       ...,\n",
       "       [-0.8001436 ,  0.45967364, -1.3158927 , ..., -1.3393523 ,\n",
       "        -1.2479155 , -0.10151188],\n",
       "       [ 0.65616345, -1.1558628 ,  0.22463392, ...,  0.06328919,\n",
       "         0.862858  ,  0.        ],\n",
       "       [-2.9082816 ,  0.        , -0.6819175 , ...,  0.40110233,\n",
       "        -0.04349303, -1.7842377 ]], dtype=float32)"
      ]
     },
     "execution_count": 9,
     "metadata": {},
     "output_type": "execute_result"
    }
   ],
   "source": [
    "jnp "
   ]
  },
  {
   "cell_type": "code",
   "execution_count": 7,
   "id": "ecb04d15",
   "metadata": {},
   "outputs": [
    {
     "data": {
      "text/plain": [
       "Array([[False, False, False, ..., False, False, False],\n",
       "       [ True, False, False, ...,  True, False, False],\n",
       "       [False, False,  True, ..., False, False, False],\n",
       "       ...,\n",
       "       [False, False, False, ..., False,  True, False],\n",
       "       [False, False, False, ..., False, False,  True],\n",
       "       [ True, False, False, ..., False, False, False]], dtype=bool)"
      ]
     },
     "execution_count": 7,
     "metadata": {},
     "output_type": "execute_result"
    }
   ],
   "source": [
    "jnp = jax.numpy.asarray(X_np)\n"
   ]
  }
 ],
 "metadata": {
  "kernelspec": {
   "display_name": "Python 3 (ipykernel)",
   "language": "python",
   "name": "python3"
  },
  "language_info": {
   "codemirror_mode": {
    "name": "ipython",
    "version": 3
   },
   "file_extension": ".py",
   "mimetype": "text/x-python",
   "name": "python",
   "nbconvert_exporter": "python",
   "pygments_lexer": "ipython3",
   "version": "3.11.5"
  }
 },
 "nbformat": 4,
 "nbformat_minor": 5
}
