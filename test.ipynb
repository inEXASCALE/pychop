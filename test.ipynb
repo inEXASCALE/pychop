{
 "cells": [
  {
   "cell_type": "code",
   "execution_count": 29,
   "id": "296dd14a",
   "metadata": {},
   "outputs": [
    {
     "data": {
      "text/plain": [
       "tensor([[ 2.3914, -0.9360,  1.3494,  ..., -0.1718,  1.3374, -0.4140],\n",
       "        [ 1.3089, -1.4395,  1.5444,  ...,  0.9298,  0.8596,  0.4958],\n",
       "        [-0.8182,  0.5194,  0.6784,  ...,  0.0836,  1.4608, -2.5341],\n",
       "        ...,\n",
       "        [ 0.3503,  0.6518, -0.0194,  ..., -0.4060, -1.4604,  1.7925],\n",
       "        [-2.7352, -0.7808, -0.2018,  ..., -0.2029, -2.2448,  0.0753],\n",
       "        [ 0.1189, -1.5567,  1.1869,  ...,  1.1703, -0.0436, -0.4877]])"
      ]
     },
     "execution_count": 29,
     "metadata": {},
     "output_type": "execute_result"
    }
   ],
   "source": [
    "import numpy as np\n",
    "import torch\n",
    "import pychop\n",
    "from pychop.tch import chop\n",
    "from time import time\n",
    "X = torch.Tensor(np.random.randn(5000, 5000))\n",
    "X"
   ]
  },
  {
   "cell_type": "code",
   "execution_count": 30,
   "id": "0c7593b7",
   "metadata": {},
   "outputs": [
    {
     "data": {
      "text/plain": [
       "tensor([[ 2.3914, -0.9360,  1.3494,  ..., -0.1718,  1.3374, -0.4140],\n",
       "        [ 1.3089, -1.4395,  1.5444,  ...,  0.9298,  0.8596,  0.4958],\n",
       "        [-0.8182,  0.5194,  0.6784,  ...,  0.0836,  1.4608, -2.5341],\n",
       "        ...,\n",
       "        [ 0.3503,  0.6518, -0.0194,  ..., -0.4060, -1.4604,  1.7925],\n",
       "        [-2.7352, -0.7808, -0.2018,  ..., -0.2029, -2.2448,  0.0753],\n",
       "        [ 0.1189, -1.5567,  1.1869,  ...,  1.1703, -0.0436, -0.4877]])"
      ]
     },
     "execution_count": 30,
     "metadata": {},
     "output_type": "execute_result"
    }
   ],
   "source": [
    "X"
   ]
  },
  {
   "cell_type": "code",
   "execution_count": 31,
   "id": "1fc33dcf",
   "metadata": {},
   "outputs": [],
   "source": [
    "pyq_f = chop('h', copy=False)\n",
    "pyq_t = chop('h', copy=True)"
   ]
  },
  {
   "cell_type": "code",
   "execution_count": 35,
   "id": "c29813b0",
   "metadata": {},
   "outputs": [
    {
     "data": {
      "text/plain": [
       "1.0473763942718506"
      ]
     },
     "execution_count": 35,
     "metadata": {},
     "output_type": "execute_result"
    }
   ],
   "source": [
    "st = time()\n",
    "pyq_f(X)\n",
    "et = time()\n",
    "et - st"
   ]
  },
  {
   "cell_type": "code",
   "execution_count": 34,
   "id": "78a9ab31",
   "metadata": {},
   "outputs": [
    {
     "data": {
      "text/plain": [
       "1.0262291431427002"
      ]
     },
     "execution_count": 34,
     "metadata": {},
     "output_type": "execute_result"
    }
   ],
   "source": [
    "st = time()\n",
    "pyq_t(X)\n",
    "et = time()\n",
    "et - st"
   ]
  },
  {
   "cell_type": "code",
   "execution_count": 4,
   "id": "4b5357f6",
   "metadata": {},
   "outputs": [
    {
     "data": {
      "text/plain": [
       "tensor([[-2.4896,  0.8622,  0.0065,  ..., -2.4040, -3.2924,  0.9767],\n",
       "        [-0.0156,  2.3901,  1.6833,  ..., -1.0926, -0.2011, -1.0372],\n",
       "        [-2.0066,  0.0746,  0.2357,  ...,  1.1607, -0.5829,  0.7842],\n",
       "        ...,\n",
       "        [-1.7943, -0.2826,  2.3144,  ..., -0.1833,  0.2520,  1.1333],\n",
       "        [-0.1708, -0.0641, -0.1843,  ...,  0.4231, -1.9965, -0.7322],\n",
       "        [-1.2726,  0.2879, -1.1815,  ..., -0.7453, -0.4590,  1.2673]])"
      ]
     },
     "execution_count": 4,
     "metadata": {},
     "output_type": "execute_result"
    }
   ],
   "source": [
    "X"
   ]
  },
  {
   "cell_type": "code",
   "execution_count": null,
   "id": "01915966",
   "metadata": {},
   "outputs": [],
   "source": []
  }
 ],
 "metadata": {
  "kernelspec": {
   "display_name": "Python 3 (ipykernel)",
   "language": "python",
   "name": "python3"
  },
  "language_info": {
   "codemirror_mode": {
    "name": "ipython",
    "version": 3
   },
   "file_extension": ".py",
   "mimetype": "text/x-python",
   "name": "python",
   "nbconvert_exporter": "python",
   "pygments_lexer": "ipython3",
   "version": "3.11.5"
  }
 },
 "nbformat": 4,
 "nbformat_minor": 5
}
