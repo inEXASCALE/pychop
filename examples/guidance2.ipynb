{
 "cells": [
  {
   "cell_type": "code",
   "execution_count": 1,
   "id": "296dd14a",
   "metadata": {},
   "outputs": [],
   "source": [
    "import sys\n",
    "# appending a path\n",
    "sys.path.append('../')\n",
    "\n",
    "import numpy as np\n",
    "import torch\n",
    "import jax\n",
    "import pychop\n",
    "from numpy import linalg\n",
    "from time import time\n",
    "# from pychop.chop import chop\n",
    "# from pychop.quant import quant\n",
    "from time import time\n",
    "np.random.seed(0)"
   ]
  },
  {
   "cell_type": "markdown",
   "id": "659e0567",
   "metadata": {},
   "source": []
  },
  {
   "cell_type": "code",
   "execution_count": 2,
   "id": "ad8e9d84",
   "metadata": {},
   "outputs": [
    {
     "name": "stdout",
     "output_type": "stream",
     "text": [
      "[[ 1.76405235  0.40015721  0.97873798 ...  0.92918181  0.22941801\n",
      "   0.41440588]\n",
      " [ 0.30972382 -0.73745619 -1.53691988 ...  0.51687218 -0.03292069\n",
      "   1.29811143]\n",
      " [-0.20211703 -0.833231    1.73360025 ...  0.75309415 -0.58103281\n",
      "  -0.19837974]\n",
      " ...\n",
      " [ 1.07432182  1.188486    0.5092741  ...  0.07053449  0.59975911\n",
      "  -2.41029925]\n",
      " [ 0.32432475 -0.02337844  1.62873399 ... -0.16088168 -1.59772992\n",
      "   1.414703  ]\n",
      " [ 0.63460807  1.38090977  0.54829109 ...  0.30762729 -0.11078251\n",
      "   0.83859307]]\n"
     ]
    }
   ],
   "source": [
    "X_np = np.random.randn(5000, 5000) # Numpy array\n",
    "X_th = torch.Tensor(X_np) # torch array\n",
    "X_jx = jax.numpy.asarray(X_np)\n",
    "print(X_np)"
   ]
  },
  {
   "cell_type": "markdown",
   "id": "e2b51fba",
   "metadata": {},
   "source": [
    "### print unit-roundoff in machine"
   ]
  },
  {
   "cell_type": "code",
   "execution_count": 3,
   "id": "618838ea",
   "metadata": {},
   "outputs": [
    {
     "data": {
      "text/html": [
       "<div>\n",
       "<style scoped>\n",
       "    .dataframe tbody tr th:only-of-type {\n",
       "        vertical-align: middle;\n",
       "    }\n",
       "\n",
       "    .dataframe tbody tr th {\n",
       "        vertical-align: top;\n",
       "    }\n",
       "\n",
       "    .dataframe thead th {\n",
       "        text-align: right;\n",
       "    }\n",
       "</style>\n",
       "<table border=\"1\" class=\"dataframe\">\n",
       "  <thead>\n",
       "    <tr style=\"text-align: right;\">\n",
       "      <th></th>\n",
       "      <th></th>\n",
       "      <th>u</th>\n",
       "      <th>xmins</th>\n",
       "      <th>xmin</th>\n",
       "      <th>xmax</th>\n",
       "      <th>p</th>\n",
       "      <th>emins</th>\n",
       "      <th>emin</th>\n",
       "      <th>emax</th>\n",
       "    </tr>\n",
       "  </thead>\n",
       "  <tbody>\n",
       "    <tr>\n",
       "      <th>0</th>\n",
       "      <td>q43</td>\n",
       "      <td>6.25e-02</td>\n",
       "      <td>1.95e-03</td>\n",
       "      <td>1.56e-02</td>\n",
       "      <td>2.40e+02</td>\n",
       "      <td>4</td>\n",
       "      <td>-9</td>\n",
       "      <td>-6</td>\n",
       "      <td>7</td>\n",
       "    </tr>\n",
       "    <tr>\n",
       "      <th>1</th>\n",
       "      <td>q52</td>\n",
       "      <td>1.25e-01</td>\n",
       "      <td>1.53e-05</td>\n",
       "      <td>6.10e-05</td>\n",
       "      <td>5.73e+04</td>\n",
       "      <td>3</td>\n",
       "      <td>-16</td>\n",
       "      <td>-14</td>\n",
       "      <td>15</td>\n",
       "    </tr>\n",
       "    <tr>\n",
       "      <th>2</th>\n",
       "      <td>b</td>\n",
       "      <td>3.91e-03</td>\n",
       "      <td>9.18e-41</td>\n",
       "      <td>1.18e-38</td>\n",
       "      <td>3.39e+38</td>\n",
       "      <td>8</td>\n",
       "      <td>-133</td>\n",
       "      <td>-126</td>\n",
       "      <td>127</td>\n",
       "    </tr>\n",
       "    <tr>\n",
       "      <th>3</th>\n",
       "      <td>h</td>\n",
       "      <td>4.88e-04</td>\n",
       "      <td>5.96e-08</td>\n",
       "      <td>6.10e-05</td>\n",
       "      <td>6.55e+04</td>\n",
       "      <td>11</td>\n",
       "      <td>-24</td>\n",
       "      <td>-14</td>\n",
       "      <td>15</td>\n",
       "    </tr>\n",
       "    <tr>\n",
       "      <th>4</th>\n",
       "      <td>t</td>\n",
       "      <td>4.88e-04</td>\n",
       "      <td>1.15e-41</td>\n",
       "      <td>1.18e-38</td>\n",
       "      <td>3.40e+38</td>\n",
       "      <td>11</td>\n",
       "      <td>-136</td>\n",
       "      <td>-126</td>\n",
       "      <td>127</td>\n",
       "    </tr>\n",
       "    <tr>\n",
       "      <th>5</th>\n",
       "      <td>s</td>\n",
       "      <td>5.96e-08</td>\n",
       "      <td>1.40e-45</td>\n",
       "      <td>1.18e-38</td>\n",
       "      <td>3.40e+38</td>\n",
       "      <td>24</td>\n",
       "      <td>-149</td>\n",
       "      <td>-126</td>\n",
       "      <td>127</td>\n",
       "    </tr>\n",
       "    <tr>\n",
       "      <th>6</th>\n",
       "      <td>d</td>\n",
       "      <td>1.11e-16</td>\n",
       "      <td>4.94e-324</td>\n",
       "      <td>2.23e-308</td>\n",
       "      <td>1.80e+308</td>\n",
       "      <td>53</td>\n",
       "      <td>-1074</td>\n",
       "      <td>-1022</td>\n",
       "      <td>1023</td>\n",
       "    </tr>\n",
       "    <tr>\n",
       "      <th>7</th>\n",
       "      <td>q</td>\n",
       "      <td>9.63e-35</td>\n",
       "      <td>0.00e+00</td>\n",
       "      <td>0.00e+00</td>\n",
       "      <td>inf</td>\n",
       "      <td>113</td>\n",
       "      <td>-16494</td>\n",
       "      <td>-16382</td>\n",
       "      <td>16383</td>\n",
       "    </tr>\n",
       "  </tbody>\n",
       "</table>\n",
       "</div>"
      ],
      "text/plain": [
       "                u      xmins       xmin       xmax    p    emins     emin  \\\n",
       "0  q43   6.25e-02   1.95e-03   1.56e-02   2.40e+02    4       -9       -6   \n",
       "1  q52   1.25e-01   1.53e-05   6.10e-05   5.73e+04    3      -16      -14   \n",
       "2    b   3.91e-03   9.18e-41   1.18e-38   3.39e+38    8     -133     -126   \n",
       "3    h   4.88e-04   5.96e-08   6.10e-05   6.55e+04   11      -24      -14   \n",
       "4    t   4.88e-04   1.15e-41   1.18e-38   3.40e+38   11     -136     -126   \n",
       "5    s   5.96e-08   1.40e-45   1.18e-38   3.40e+38   24     -149     -126   \n",
       "6    d   1.11e-16  4.94e-324  2.23e-308  1.80e+308   53    -1074    -1022   \n",
       "7    q   9.63e-35   0.00e+00   0.00e+00        inf  113   -16494   -16382   \n",
       "\n",
       "     emax  \n",
       "0       7  \n",
       "1      15  \n",
       "2     127  \n",
       "3      15  \n",
       "4     127  \n",
       "5     127  \n",
       "6    1023  \n",
       "7   16383  "
      ]
     },
     "execution_count": 3,
     "metadata": {},
     "output_type": "execute_result"
    }
   ],
   "source": [
    "from pychop import float_params\n",
    "\n",
    "float_params()"
   ]
  },
  {
   "cell_type": "markdown",
   "id": "f6e72fb9",
   "metadata": {},
   "source": [
    "### set backend"
   ]
  },
  {
   "cell_type": "code",
   "execution_count": 4,
   "id": "36ffc3e8",
   "metadata": {},
   "outputs": [],
   "source": [
    "pychop.backend('torch')"
   ]
  },
  {
   "cell_type": "code",
   "execution_count": 5,
   "id": "9297600d",
   "metadata": {},
   "outputs": [
    {
     "name": "stdout",
     "output_type": "stream",
     "text": [
      "Load NumPy backend.\n"
     ]
    }
   ],
   "source": [
    "pychop.backend('numpy', 1) # print information, NumPy is the default option."
   ]
  },
  {
   "cell_type": "markdown",
   "id": "0417a000",
   "metadata": {},
   "source": [
    "### run chop"
   ]
  },
  {
   "cell_type": "code",
   "execution_count": 6,
   "id": "e7195d18",
   "metadata": {},
   "outputs": [
    {
     "data": {
      "text/plain": [
       "array([[ 1.76367188,  0.40014648,  0.97851562, ...,  0.92919922,\n",
       "         0.22937012,  0.41430664],\n",
       "       [ 0.30981445, -0.73730469, -1.53710938, ...,  0.51708984,\n",
       "        -0.03292847,  1.29785156],\n",
       "       [-0.20214844, -0.83300781,  1.73339844, ...,  0.75292969,\n",
       "        -0.58105469, -0.19836426],\n",
       "       ...,\n",
       "       [ 1.07421875,  1.18847656,  0.50927734, ...,  0.07055664,\n",
       "         0.59960938, -2.41015625],\n",
       "       [ 0.32421875, -0.02337646,  1.62890625, ..., -0.16088867,\n",
       "        -1.59765625,  1.41503906],\n",
       "       [ 0.63476562,  1.38085938,  0.54833984, ...,  0.30761719,\n",
       "        -0.11077881,  0.83837891]])"
      ]
     },
     "execution_count": 6,
     "metadata": {},
     "output_type": "execute_result"
    }
   ],
   "source": [
    "from pychop.chop import Chop\n",
    "pyq_f = Chop('h')\n",
    "pyq_f(X_np)"
   ]
  },
  {
   "cell_type": "code",
   "execution_count": 7,
   "id": "21e7b25e-3c45-43d3-8f04-2e01c3208571",
   "metadata": {},
   "outputs": [
    {
     "name": "stdout",
     "output_type": "stream",
     "text": [
      "2^-11\n"
     ]
    }
   ],
   "source": [
    "print(\"2^\"+str(int(np.log2(pyq_f.u))))"
   ]
  },
  {
   "cell_type": "code",
   "execution_count": 8,
   "id": "4dcba563",
   "metadata": {},
   "outputs": [
    {
     "name": "stdout",
     "output_type": "stream",
     "text": [
      "Load Troch backend.\n",
      "runtime: 0.7241630554199219\n"
     ]
    }
   ],
   "source": [
    "pychop.backend('torch', 1) # print information\n",
    "\n",
    "pyq_f = Chop('h')\n",
    "st = time()\n",
    "pyq_f(X_th)\n",
    "print(\"runtime:\", time() - st)"
   ]
  },
  {
   "cell_type": "code",
   "execution_count": 9,
   "id": "69f9c9a0",
   "metadata": {},
   "outputs": [
    {
     "name": "stdout",
     "output_type": "stream",
     "text": [
      "tensor([[ 1.7637,  0.4001,  0.9785,  ...,  0.9292,  0.2294,  0.4143],\n",
      "        [ 0.3098, -0.7373, -1.5371,  ...,  0.5171, -0.0329,  1.2979],\n",
      "        [-0.2021, -0.8330,  1.7334,  ...,  0.7529, -0.5811, -0.1984],\n",
      "        ...,\n",
      "        [ 1.0742,  1.1885,  0.5093,  ...,  0.0706,  0.5996, -2.4102],\n",
      "        [ 0.3242, -0.0234,  1.6289,  ..., -0.1609, -1.5977,  1.4150],\n",
      "        [ 0.6348,  1.3809,  0.5483,  ...,  0.3076, -0.1108,  0.8384]])\n",
      "runtime: 0.637092113494873\n",
      "tensor([[ 0.9814,  0.3896,  0.8296,  ...,  0.8013,  0.2274,  0.4026],\n",
      "        [ 0.3049, -0.6724, -0.9995,  ...,  0.4944, -0.0329,  0.9629],\n",
      "        [-0.2008, -0.7397,  0.9868,  ...,  0.6836, -0.5488, -0.1970],\n",
      "        ...,\n",
      "        [ 0.8794,  0.9277,  0.4875,  ...,  0.0705,  0.5645, -0.6680],\n",
      "        [ 0.3186, -0.0234,  0.9985,  ..., -0.1602, -0.9995,  0.9878],\n",
      "        [ 0.5928,  0.9819,  0.5215,  ...,  0.3027, -0.1105,  0.7437]])\n"
     ]
    }
   ],
   "source": [
    "pychop.backend('torch')\n",
    "pyq_f = Chop('h')\n",
    "\n",
    "device = torch.device(\"cuda\" if torch.cuda.is_available() else \"cpu\")\n",
    "X_gpu = X_th.to(device)\n",
    "\n",
    "st = time()\n",
    "print(pyq_f(X_gpu))\n",
    "print(\"runtime:\", time() - st)\n",
    "print(pyq_f.sin(X_th))"
   ]
  },
  {
   "cell_type": "code",
   "execution_count": 10,
   "id": "9c7f693c",
   "metadata": {},
   "outputs": [
    {
     "name": "stdout",
     "output_type": "stream",
     "text": [
      "Load JAX backend.\n",
      "[[ 1.7636719   0.40014648  0.9785156  ...  0.9291992   0.22937012\n",
      "   0.41430664]\n",
      " [ 0.30981445 -0.7373047  -1.5371094  ...  0.51708984 -0.03292847\n",
      "   1.2978516 ]\n",
      " [-0.20214844 -0.8330078   1.7333984  ...  0.7529297  -0.5810547\n",
      "  -0.19836426]\n",
      " ...\n",
      " [ 1.0742188   1.1884766   0.50927734 ...  0.07055664  0.5996094\n",
      "  -2.4101562 ]\n",
      " [ 0.32421875 -0.02337646  1.6289062  ... -0.16088867 -1.5976562\n",
      "   1.4150391 ]\n",
      " [ 0.6347656   1.3808594   0.54833984 ...  0.3076172  -0.11077881\n",
      "   0.8383789 ]]\n",
      "[[ 0.9814453   0.38964844  0.82958984 ...  0.80126953  0.22741699\n",
      "   0.4025879 ]\n",
      " [ 0.30493164 -0.6723633  -0.9995117  ...  0.49438477 -0.03292847\n",
      "   0.9628906 ]\n",
      " [-0.20080566 -0.7397461   0.9868164  ...  0.68359375 -0.5488281\n",
      "  -0.19702148]\n",
      " ...\n",
      " [ 0.87939453  0.9277344   0.48754883 ...  0.07049561  0.5644531\n",
      "  -0.66796875]\n",
      " [ 0.31860352 -0.02337646  0.99853516 ... -0.16015625 -0.9995117\n",
      "   0.98779297]\n",
      " [ 0.59277344  0.9819336   0.5214844  ...  0.30273438 -0.11053467\n",
      "   0.74365234]]\n"
     ]
    }
   ],
   "source": [
    "pychop.backend('jax', 1) # print information\n",
    "pyq_f = Chop('h')\n",
    "print(pyq_f(X_jx))\n",
    "print(pyq_f.sin(X_jx))"
   ]
  },
  {
   "cell_type": "code",
   "execution_count": 11,
   "id": "57db0df9",
   "metadata": {},
   "outputs": [
    {
     "name": "stdout",
     "output_type": "stream",
     "text": [
      "[[ 1.76367188  0.40014648  0.97851562 ...  0.92919922  0.22937012\n",
      "   0.41430664]\n",
      " [ 0.30981445 -0.73779297 -1.53710938 ...  0.51660156 -0.03292847\n",
      "   1.29785156]\n",
      " [-0.20202637 -0.83349609  1.73339844 ...  0.75341797 -0.58105469\n",
      "  -0.19836426]\n",
      " ...\n",
      " [ 1.07421875  1.18847656  0.50927734 ...  0.07049561  0.59960938\n",
      "  -2.41015625]\n",
      " [ 0.32421875 -0.02339172  1.62890625 ... -0.1607666  -1.59765625\n",
      "   1.41503906]\n",
      " [ 0.63476562  1.38085938  0.54833984 ...  0.30761719 -0.11077881\n",
      "   0.83886719]]\n",
      "[[ 0.98144531  0.3894043   0.83007812 ...  0.80078125  0.22753906\n",
      "   0.40283203]\n",
      " [ 0.3046875  -0.67285156 -0.99951172 ...  0.49389648 -0.03292847\n",
      "   0.96289062]\n",
      " [-0.20068359 -0.74023438  0.98632812 ...  0.68359375 -0.54882812\n",
      "  -0.19702148]\n",
      " ...\n",
      " [ 0.87939453  0.92822266  0.48754883 ...  0.07049561  0.56445312\n",
      "  -0.66796875]\n",
      " [ 0.31884766 -0.02337646  0.99853516 ... -0.16015625 -0.99951172\n",
      "   0.98779297]\n",
      " [ 0.59277344  0.98193359  0.52148438 ...  0.30297852 -0.11053467\n",
      "   0.74365234]]\n"
     ]
    }
   ],
   "source": [
    "pychop.backend('numpy')\n",
    "pyq_f = Chop('h', rmode=5, flip=0)\n",
    "print(pyq_f(X_np))\n",
    "print(pyq_f.sin(X_np))"
   ]
  },
  {
   "cell_type": "code",
   "execution_count": null,
   "id": "f79af559",
   "metadata": {},
   "outputs": [],
   "source": []
  },
  {
   "cell_type": "markdown",
   "id": "f3571418",
   "metadata": {},
   "source": [
    "## For customized precisions\n"
   ]
  },
  {
   "cell_type": "code",
   "execution_count": 12,
   "id": "31030621-0cd6-4a07-8376-1e1d9e3ebd06",
   "metadata": {},
   "outputs": [
    {
     "name": "stdout",
     "output_type": "stream",
     "text": [
      "[0.75 0.75 0.75 0.75 0.5 ]\n",
      "The floating point format is with unit-roundoff of 4.882812e-04 (≈2^-11).\n"
     ]
    }
   ],
   "source": [
    "from pychop import Customs\n",
    "prec = Customs(t=2, emax=10) # use precision 2 and set maximum exponenet of 10\n",
    "# Second, define parameter customs instead of prec,\n",
    "\n",
    "x = np.random.rand(1000, 1000) # use x = torch.rand(size=(10000, 10000)) for Torch backend\n",
    "nc = Chop(customs=prec, rmode=3)\n",
    "y = nc(x)\n",
    "print(y[0, :5])\n",
    "\n",
    "\n",
    "## To print out the unit-roundoff information, simply set verbose=1, use\n",
    "\n",
    "pyq_f = Chop('h', verbose=1)\n",
    "## The result is:\n",
    "\n",
    "## The floating point format is with unit-roundoff of 4.882812e-04 (≈2^-11)."
   ]
  },
  {
   "cell_type": "code",
   "execution_count": null,
   "id": "9cf31fc0",
   "metadata": {},
   "outputs": [],
   "source": []
  },
  {
   "cell_type": "code",
   "execution_count": null,
   "id": "03b80afd-673b-42f5-aa71-def41e29fd39",
   "metadata": {},
   "outputs": [],
   "source": []
  }
 ],
 "metadata": {
  "kernelspec": {
   "display_name": "Python 3 (ipykernel)",
   "language": "python",
   "name": "python3"
  },
  "language_info": {
   "codemirror_mode": {
    "name": "ipython",
    "version": 3
   },
   "file_extension": ".py",
   "mimetype": "text/x-python",
   "name": "python",
   "nbconvert_exporter": "python",
   "pygments_lexer": "ipython3",
   "version": "3.12.4"
  }
 },
 "nbformat": 4,
 "nbformat_minor": 5
}
