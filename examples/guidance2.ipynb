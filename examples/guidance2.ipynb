{
 "cells": [
  {
   "cell_type": "code",
   "execution_count": 1,
   "id": "296dd14a",
   "metadata": {},
   "outputs": [],
   "source": [
    "import sys\n",
    "# appending a path\n",
    "sys.path.append('../')\n",
    "\n",
    "import numpy as np\n",
    "import torch\n",
    "import jax\n",
    "import pychop\n",
    "from numpy import linalg\n",
    "from time import time\n",
    "# from pychop.chop import chop\n",
    "# from pychop.quant import quant\n",
    "from time import time\n",
    "np.random.seed(0)"
   ]
  },
  {
   "cell_type": "markdown",
   "id": "659e0567",
   "metadata": {},
   "source": []
  },
  {
   "cell_type": "code",
   "execution_count": 2,
   "id": "ad8e9d84",
   "metadata": {},
   "outputs": [
    {
     "name": "stdout",
     "output_type": "stream",
     "text": [
      "[[ 1.76405235  0.40015721  0.97873798 ...  0.92918181  0.22941801\n",
      "   0.41440588]\n",
      " [ 0.30972382 -0.73745619 -1.53691988 ...  0.51687218 -0.03292069\n",
      "   1.29811143]\n",
      " [-0.20211703 -0.833231    1.73360025 ...  0.75309415 -0.58103281\n",
      "  -0.19837974]\n",
      " ...\n",
      " [ 1.07432182  1.188486    0.5092741  ...  0.07053449  0.59975911\n",
      "  -2.41029925]\n",
      " [ 0.32432475 -0.02337844  1.62873399 ... -0.16088168 -1.59772992\n",
      "   1.414703  ]\n",
      " [ 0.63460807  1.38090977  0.54829109 ...  0.30762729 -0.11078251\n",
      "   0.83859307]]\n"
     ]
    }
   ],
   "source": [
    "X_np = np.random.randn(5000, 5000) # Numpy array\n",
    "X_th = torch.Tensor(X_np) # torch array\n",
    "X_jx = jax.numpy.asarray(X_np)\n",
    "print(X_np)"
   ]
  },
  {
   "cell_type": "markdown",
   "id": "e2b51fba",
   "metadata": {},
   "source": [
    "### print unit-roundoff in machine"
   ]
  },
  {
   "cell_type": "code",
   "execution_count": 3,
   "id": "618838ea",
   "metadata": {},
   "outputs": [
    {
     "data": {
      "text/html": [
       "<div>\n",
       "<style scoped>\n",
       "    .dataframe tbody tr th:only-of-type {\n",
       "        vertical-align: middle;\n",
       "    }\n",
       "\n",
       "    .dataframe tbody tr th {\n",
       "        vertical-align: top;\n",
       "    }\n",
       "\n",
       "    .dataframe thead th {\n",
       "        text-align: right;\n",
       "    }\n",
       "</style>\n",
       "<table border=\"1\" class=\"dataframe\">\n",
       "  <thead>\n",
       "    <tr style=\"text-align: right;\">\n",
       "      <th></th>\n",
       "      <th></th>\n",
       "      <th>u</th>\n",
       "      <th>xmins</th>\n",
       "      <th>xmin</th>\n",
       "      <th>xmax</th>\n",
       "      <th>p</th>\n",
       "      <th>emins</th>\n",
       "      <th>emin</th>\n",
       "      <th>emax</th>\n",
       "    </tr>\n",
       "  </thead>\n",
       "  <tbody>\n",
       "    <tr>\n",
       "      <th>0</th>\n",
       "      <td>q43</td>\n",
       "      <td>6.25e-02</td>\n",
       "      <td>1.95e-03</td>\n",
       "      <td>1.56e-02</td>\n",
       "      <td>2.40e+02</td>\n",
       "      <td>4</td>\n",
       "      <td>-9</td>\n",
       "      <td>-6</td>\n",
       "      <td>7</td>\n",
       "    </tr>\n",
       "    <tr>\n",
       "      <th>1</th>\n",
       "      <td>q52</td>\n",
       "      <td>1.25e-01</td>\n",
       "      <td>1.53e-05</td>\n",
       "      <td>6.10e-05</td>\n",
       "      <td>5.73e+04</td>\n",
       "      <td>3</td>\n",
       "      <td>-16</td>\n",
       "      <td>-14</td>\n",
       "      <td>15</td>\n",
       "    </tr>\n",
       "    <tr>\n",
       "      <th>2</th>\n",
       "      <td>b</td>\n",
       "      <td>3.91e-03</td>\n",
       "      <td>9.18e-41</td>\n",
       "      <td>1.18e-38</td>\n",
       "      <td>3.39e+38</td>\n",
       "      <td>8</td>\n",
       "      <td>-133</td>\n",
       "      <td>-126</td>\n",
       "      <td>127</td>\n",
       "    </tr>\n",
       "    <tr>\n",
       "      <th>3</th>\n",
       "      <td>h</td>\n",
       "      <td>4.88e-04</td>\n",
       "      <td>5.96e-08</td>\n",
       "      <td>6.10e-05</td>\n",
       "      <td>6.55e+04</td>\n",
       "      <td>11</td>\n",
       "      <td>-24</td>\n",
       "      <td>-14</td>\n",
       "      <td>15</td>\n",
       "    </tr>\n",
       "    <tr>\n",
       "      <th>4</th>\n",
       "      <td>t</td>\n",
       "      <td>4.88e-04</td>\n",
       "      <td>1.15e-41</td>\n",
       "      <td>1.18e-38</td>\n",
       "      <td>3.40e+38</td>\n",
       "      <td>11</td>\n",
       "      <td>-136</td>\n",
       "      <td>-126</td>\n",
       "      <td>127</td>\n",
       "    </tr>\n",
       "    <tr>\n",
       "      <th>5</th>\n",
       "      <td>s</td>\n",
       "      <td>5.96e-08</td>\n",
       "      <td>1.40e-45</td>\n",
       "      <td>1.18e-38</td>\n",
       "      <td>3.40e+38</td>\n",
       "      <td>24</td>\n",
       "      <td>-149</td>\n",
       "      <td>-126</td>\n",
       "      <td>127</td>\n",
       "    </tr>\n",
       "    <tr>\n",
       "      <th>6</th>\n",
       "      <td>d</td>\n",
       "      <td>1.11e-16</td>\n",
       "      <td>4.94e-324</td>\n",
       "      <td>2.23e-308</td>\n",
       "      <td>1.80e+308</td>\n",
       "      <td>53</td>\n",
       "      <td>-1074</td>\n",
       "      <td>-1022</td>\n",
       "      <td>1023</td>\n",
       "    </tr>\n",
       "    <tr>\n",
       "      <th>7</th>\n",
       "      <td>q</td>\n",
       "      <td>9.63e-35</td>\n",
       "      <td>0.00e+00</td>\n",
       "      <td>0.00e+00</td>\n",
       "      <td>inf</td>\n",
       "      <td>113</td>\n",
       "      <td>-16494</td>\n",
       "      <td>-16382</td>\n",
       "      <td>16383</td>\n",
       "    </tr>\n",
       "  </tbody>\n",
       "</table>\n",
       "</div>"
      ],
      "text/plain": [
       "                u      xmins       xmin       xmax    p    emins     emin  \\\n",
       "0  q43   6.25e-02   1.95e-03   1.56e-02   2.40e+02    4       -9       -6   \n",
       "1  q52   1.25e-01   1.53e-05   6.10e-05   5.73e+04    3      -16      -14   \n",
       "2    b   3.91e-03   9.18e-41   1.18e-38   3.39e+38    8     -133     -126   \n",
       "3    h   4.88e-04   5.96e-08   6.10e-05   6.55e+04   11      -24      -14   \n",
       "4    t   4.88e-04   1.15e-41   1.18e-38   3.40e+38   11     -136     -126   \n",
       "5    s   5.96e-08   1.40e-45   1.18e-38   3.40e+38   24     -149     -126   \n",
       "6    d   1.11e-16  4.94e-324  2.23e-308  1.80e+308   53    -1074    -1022   \n",
       "7    q   9.63e-35   0.00e+00   0.00e+00        inf  113   -16494   -16382   \n",
       "\n",
       "     emax  \n",
       "0       7  \n",
       "1      15  \n",
       "2     127  \n",
       "3      15  \n",
       "4     127  \n",
       "5     127  \n",
       "6    1023  \n",
       "7   16383  "
      ]
     },
     "execution_count": 3,
     "metadata": {},
     "output_type": "execute_result"
    }
   ],
   "source": [
    "from pychop import float_params\n",
    "\n",
    "float_params()"
   ]
  },
  {
   "cell_type": "markdown",
   "id": "f6e72fb9",
   "metadata": {},
   "source": [
    "### set backend"
   ]
  },
  {
   "cell_type": "code",
   "execution_count": 4,
   "id": "36ffc3e8",
   "metadata": {},
   "outputs": [],
   "source": [
    "pychop.backend('torch')"
   ]
  },
  {
   "cell_type": "code",
   "execution_count": 5,
   "id": "9297600d",
   "metadata": {},
   "outputs": [
    {
     "name": "stdout",
     "output_type": "stream",
     "text": [
      "Load NumPy backend.\n"
     ]
    }
   ],
   "source": [
    "pychop.backend('numpy', 1) # print information, NumPy is the default option."
   ]
  },
  {
   "cell_type": "markdown",
   "id": "0417a000",
   "metadata": {},
   "source": [
    "### run chop"
   ]
  },
  {
   "cell_type": "code",
   "execution_count": 6,
   "id": "e7195d18",
   "metadata": {},
   "outputs": [
    {
     "data": {
      "text/plain": [
       "array([[ 1.76367188,  0.40014648,  0.97851562, ...,  0.92919922,\n",
       "         0.22937012,  0.41430664],\n",
       "       [ 0.30981445, -0.73730469, -1.53710938, ...,  0.51708984,\n",
       "        -0.03292847,  1.29785156],\n",
       "       [-0.20214844, -0.83300781,  1.73339844, ...,  0.75292969,\n",
       "        -0.58105469, -0.19836426],\n",
       "       ...,\n",
       "       [ 1.07421875,  1.18847656,  0.50927734, ...,  0.07055664,\n",
       "         0.59960938, -2.41015625],\n",
       "       [ 0.32421875, -0.02337646,  1.62890625, ..., -0.16088867,\n",
       "        -1.59765625,  1.41503906],\n",
       "       [ 0.63476562,  1.38085938,  0.54833984, ...,  0.30761719,\n",
       "        -0.11077881,  0.83837891]])"
      ]
     },
     "execution_count": 6,
     "metadata": {},
     "output_type": "execute_result"
    }
   ],
   "source": [
    "from pychop.chop import Chop\n",
    "pyq_f = Chop('h')\n",
    "pyq_f(X_np)"
   ]
  },
  {
   "cell_type": "code",
   "execution_count": 7,
   "id": "21e7b25e-3c45-43d3-8f04-2e01c3208571",
   "metadata": {},
   "outputs": [
    {
     "name": "stdout",
     "output_type": "stream",
     "text": [
      "2^-11\n"
     ]
    }
   ],
   "source": [
    "print(\"2^\"+str(int(np.log2(pyq_f.u))))"
   ]
  },
  {
   "cell_type": "code",
   "execution_count": 8,
   "id": "4dcba563",
   "metadata": {},
   "outputs": [
    {
     "name": "stdout",
     "output_type": "stream",
     "text": [
      "Load Troch backend.\n",
      "runtime: 0.9297142028808594\n"
     ]
    }
   ],
   "source": [
    "pychop.backend('torch', 1) # print information\n",
    "\n",
    "pyq_f = Chop('h')\n",
    "st = time()\n",
    "pyq_f(X_th)\n",
    "print(\"runtime:\", time() - st)"
   ]
  },
  {
   "cell_type": "code",
   "execution_count": 9,
   "id": "69f9c9a0",
   "metadata": {},
   "outputs": [
    {
     "name": "stdout",
     "output_type": "stream",
     "text": [
      "runtime: 0.877464771270752\n"
     ]
    }
   ],
   "source": [
    "pychop.backend('torch')\n",
    "pyq_f = Chop('h')\n",
    "\n",
    "device = torch.device(\"cuda\" if torch.cuda.is_available() else \"cpu\")\n",
    "X_gpu = X_th.to(device)\n",
    "\n",
    "\n",
    "st = time()\n",
    "pyq_f(X_gpu)\n",
    "print(\"runtime:\", time() - st)"
   ]
  },
  {
   "cell_type": "code",
   "execution_count": 10,
   "id": "9c7f693c",
   "metadata": {},
   "outputs": [
    {
     "name": "stdout",
     "output_type": "stream",
     "text": [
      "Load JAX backend.\n"
     ]
    },
    {
     "data": {
      "text/plain": [
       "Array([[ 1.7636719 ,  0.40014648,  0.9785156 , ...,  0.9291992 ,\n",
       "         0.22937012,  0.41430664],\n",
       "       [ 0.30981445, -0.7373047 , -1.5371094 , ...,  0.51708984,\n",
       "        -0.03292847,  1.2978516 ],\n",
       "       [-0.20214844, -0.8330078 ,  1.7333984 , ...,  0.7529297 ,\n",
       "        -0.5810547 , -0.19836426],\n",
       "       ...,\n",
       "       [ 1.0742188 ,  1.1884766 ,  0.50927734, ...,  0.07055664,\n",
       "         0.5996094 , -2.4101562 ],\n",
       "       [ 0.32421875, -0.02337646,  1.6289062 , ..., -0.16088867,\n",
       "        -1.5976562 ,  1.4150391 ],\n",
       "       [ 0.6347656 ,  1.3808594 ,  0.54833984, ...,  0.3076172 ,\n",
       "        -0.11077881,  0.8383789 ]], dtype=float32)"
      ]
     },
     "execution_count": 10,
     "metadata": {},
     "output_type": "execute_result"
    }
   ],
   "source": [
    "pychop.backend('jax', 1) # print information\n",
    "pyq_f = Chop('h')\n",
    "pyq_f(X_jx)"
   ]
  },
  {
   "cell_type": "code",
   "execution_count": 11,
   "id": "57db0df9",
   "metadata": {},
   "outputs": [
    {
     "data": {
      "text/plain": [
       "array([[ 1.76367188,  0.40014648,  0.97851562, ...,  0.92919922,\n",
       "         0.22937012,  0.41430664],\n",
       "       [ 0.30981445, -0.73779297, -1.53710938, ...,  0.51660156,\n",
       "        -0.03292847,  1.29785156],\n",
       "       [-0.20202637, -0.83349609,  1.73339844, ...,  0.75341797,\n",
       "        -0.58105469, -0.19836426],\n",
       "       ...,\n",
       "       [ 1.07421875,  1.18847656,  0.50927734, ...,  0.07049561,\n",
       "         0.59960938, -2.41015625],\n",
       "       [ 0.32421875, -0.02339172,  1.62890625, ..., -0.1607666 ,\n",
       "        -1.59765625,  1.41503906],\n",
       "       [ 0.63476562,  1.38085938,  0.54833984, ...,  0.30761719,\n",
       "        -0.11077881,  0.83886719]])"
      ]
     },
     "execution_count": 11,
     "metadata": {},
     "output_type": "execute_result"
    }
   ],
   "source": [
    "pychop.backend('numpy')\n",
    "pyq_f = Chop('h', rmode=5, flip=0)\n",
    "pyq_f(X_np)"
   ]
  },
  {
   "cell_type": "code",
   "execution_count": null,
   "id": "f79af559",
   "metadata": {},
   "outputs": [],
   "source": []
  },
  {
   "cell_type": "markdown",
   "id": "f3571418",
   "metadata": {},
   "source": [
    "## For customized precisions\n"
   ]
  },
  {
   "cell_type": "code",
   "execution_count": 12,
   "id": "31030621-0cd6-4a07-8376-1e1d9e3ebd06",
   "metadata": {},
   "outputs": [
    {
     "name": "stdout",
     "output_type": "stream",
     "text": [
      "[0.5  0.5  0.75 0.75 0.25]\n",
      "The floating point format is with unit-roundoff of 4.882812e-04 (≈2^-11).\n"
     ]
    }
   ],
   "source": [
    "from pychop import Customs\n",
    "prec = Customs(t=2, emax=10) # use precision 2 and set maximum exponenet of 10\n",
    "# Second, define parameter customs instead of prec,\n",
    "\n",
    "x = np.random.rand(1000, 1000) # use x = torch.rand(size=(10000, 10000)) for Torch backend\n",
    "nc = Chop(customs=prec, rmode=3)\n",
    "y = nc(x)\n",
    "print(y[0, :5])\n",
    "\n",
    "\n",
    "## To print out the unit-roundoff information, simply set verbose=1, use\n",
    "\n",
    "pyq_f = Chop('h', verbose=1)\n",
    "## The result is:\n",
    "\n",
    "## The floating point format is with unit-roundoff of 4.882812e-04 (≈2^-11)."
   ]
  },
  {
   "cell_type": "code",
   "execution_count": null,
   "id": "9cf31fc0",
   "metadata": {},
   "outputs": [],
   "source": []
  }
 ],
 "metadata": {
  "kernelspec": {
   "display_name": "Python 3 (ipykernel)",
   "language": "python",
   "name": "python3"
  },
  "language_info": {
   "codemirror_mode": {
    "name": "ipython",
    "version": 3
   },
   "file_extension": ".py",
   "mimetype": "text/x-python",
   "name": "python",
   "nbconvert_exporter": "python",
   "pygments_lexer": "ipython3",
   "version": "3.12.4"
  }
 },
 "nbformat": 4,
 "nbformat_minor": 5
}
