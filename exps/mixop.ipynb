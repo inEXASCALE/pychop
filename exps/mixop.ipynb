{
 "cells": [
  {
   "cell_type": "code",
   "execution_count": 37,
   "id": "79d76b3a-0e9b-4c49-a5a5-635a09f0086d",
   "metadata": {},
   "outputs": [
    {
     "data": {
      "text/plain": [
       "'mp_op2.pdf'"
      ]
     },
     "execution_count": 37,
     "metadata": {},
     "output_type": "execute_result"
    }
   ],
   "source": [
    "from graphviz import Digraph\n",
    "\n",
    "dot = Digraph(format=\"pdf\")\n",
    "dot.attr(nodesep=\"1\", ranksep=\"0.05\")  \n",
    "\n",
    "dot.node(\"F2H\", \"float2half\", shape=\"box\", style=\"filled\", fillcolor=\"lightblue\")\n",
    "dot.node(\"FWD\", \"FWD\", shape=\"box\", style=\"filled\", fillcolor=\"lightgray\")\n",
    "dot.node(\"BWD-A\", \"BWD-Actv\", shape=\"box\", style=\"filled\", fillcolor=\"lightgray\")\n",
    "dot.node(\"BWD-W\", \"BWD-Weight\", shape=\"box\", style=\"filled\", fillcolor=\"lightgray\")\n",
    "dot.node(\"WU\", \"Weight Update\", shape=\"box\", style=\"filled\", fillcolor=\"lightcoral\")\n",
    "\n",
    "dot.edge(\"F2H\", \"FWD\", label=\"Weights (F16)\", color=\"black\")\n",
    "dot.edge(\"FWD\", \"BWD-A\", label=\"Activations (F16)\", color=\"blue\")\n",
    "dot.edge(\"BWD-A\", \"BWD-W\", label=\"Activation Grad (F16)\", color=\"blue\")\n",
    "dot.edge(\"BWD-W\", \"WU\", label=\"Weight Grad (F16)\", color=\"black\")\n",
    "dot.edge(\"WU\", \"F2H\", label=\"Master Weights (F32)\", color=\"black\")\n",
    "\n",
    "dot.render(\"mp_op2\", view=True)\n"
   ]
  },
  {
   "cell_type": "code",
   "execution_count": null,
   "id": "464dd45c-e221-4189-8e8d-8acd6bd4f66f",
   "metadata": {},
   "outputs": [],
   "source": []
  },
  {
   "cell_type": "code",
   "execution_count": null,
   "id": "5dfd1dab-f8e8-4d0d-b901-cb8e584d8a8d",
   "metadata": {},
   "outputs": [],
   "source": []
  }
 ],
 "metadata": {
  "kernelspec": {
   "display_name": "Python 3 (ipykernel)",
   "language": "python",
   "name": "python3"
  },
  "language_info": {
   "codemirror_mode": {
    "name": "ipython",
    "version": 3
   },
   "file_extension": ".py",
   "mimetype": "text/x-python",
   "name": "python",
   "nbconvert_exporter": "python",
   "pygments_lexer": "ipython3",
   "version": "3.12.4"
  }
 },
 "nbformat": 4,
 "nbformat_minor": 5
}
