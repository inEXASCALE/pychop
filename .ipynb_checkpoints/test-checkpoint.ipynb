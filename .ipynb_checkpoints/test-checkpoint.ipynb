{
 "cells": [
  {
   "cell_type": "code",
   "execution_count": 1,
   "id": "296dd14a",
   "metadata": {},
   "outputs": [],
   "source": [
    "import numpy as np\n",
    "import torch\n",
    "import pychop\n",
    "from pychop.chop import chop\n",
    "from pychop.quant import quant\n",
    "from time import time"
   ]
  },
  {
   "cell_type": "code",
   "execution_count": 2,
   "id": "ad8e9d84",
   "metadata": {},
   "outputs": [],
   "source": [
    "X_np = np.random.randn(500, 500) # Numpy array\n",
    "X = torch.Tensor(X_np) # torch array"
   ]
  },
  {
   "cell_type": "code",
   "execution_count": 3,
   "id": "0c7593b7",
   "metadata": {},
   "outputs": [
    {
     "name": "stdout",
     "output_type": "stream",
     "text": [
      "numpy\n"
     ]
    },
    {
     "data": {
      "text/plain": [
       "tensor([[-0.9375, -0.3750, -0.2500,  ..., -0.4375,  0.1250,  1.1875],\n",
       "        [ 0.6250, -1.9375, -0.9375,  ..., -0.4375, -1.3750, -1.3125],\n",
       "        [-2.0000, -0.6875,  0.9375,  ...,  2.0625,  0.8125, -1.2500],\n",
       "        ...,\n",
       "        [ 2.0000,  0.5000,  0.8750,  ..., -0.1875, -0.9375, -0.2500],\n",
       "        [ 0.4375,  1.4375, -1.2500,  ..., -0.6250,  0.5625,  0.1875],\n",
       "        [ 0.2500, -0.5000, -0.9375,  ..., -0.8750,  0.2500,  0.4375]])"
      ]
     },
     "execution_count": 3,
     "metadata": {},
     "output_type": "execute_result"
    }
   ],
   "source": [
    "pychop.to_fixed_point(X)"
   ]
  },
  {
   "cell_type": "code",
   "execution_count": 4,
   "id": "e7195d18",
   "metadata": {},
   "outputs": [
    {
     "data": {
      "text/plain": [
       "array([[-0.96582031, -0.40576172, -0.22998047, ..., -0.46166992,\n",
       "         0.12976074,  1.17089844],\n",
       "       [ 0.59912109, -1.96875   , -0.93115234, ..., -0.46386719,\n",
       "        -1.34765625, -1.29394531],\n",
       "       [-2.03125   , -0.68457031,  0.93408203, ...,  2.046875  ,\n",
       "         0.80517578, -1.24707031],\n",
       "       ...,\n",
       "       [ 1.97070312,  0.48730469,  0.90087891, ..., -0.1751709 ,\n",
       "        -0.91748047, -0.25170898],\n",
       "       [ 0.44677734,  1.42480469, -1.27832031, ..., -0.62890625,\n",
       "         0.56933594,  0.18041992],\n",
       "       [ 0.2421875 , -0.51416016, -0.93261719, ..., -0.86523438,\n",
       "         0.25292969,  0.45556641]])"
      ]
     },
     "execution_count": 4,
     "metadata": {},
     "output_type": "execute_result"
    }
   ],
   "source": [
    "pychop.backend('numpy')\n",
    "pyq_f = chop('h')\n",
    "pyq_f(X_np)"
   ]
  },
  {
   "cell_type": "code",
   "execution_count": 5,
   "id": "1fc33dcf",
   "metadata": {},
   "outputs": [],
   "source": [
    "pychop.backend('torch')\n",
    "pyq_f = chop('h', device='cuda')\n",
    "\n",
    "device = torch.device(\"cuda\" if torch.cuda.is_available() else \"cpu\")\n",
    "X_gpu = X.to(device)"
   ]
  },
  {
   "cell_type": "code",
   "execution_count": 6,
   "id": "3ee08395",
   "metadata": {},
   "outputs": [
    {
     "data": {
      "text/plain": [
       "tensor([[-2.4238, -1.1113,  0.5420,  ..., -0.8740, -0.9282,  0.1680],\n",
       "        [ 1.5117, -1.1035, -2.4492,  ...,  0.3809, -0.0088,  0.6860],\n",
       "        [-0.2423, -0.0397,  0.7148,  ...,  1.0459, -0.8228,  0.7061],\n",
       "        ...,\n",
       "        [ 0.1219,  1.5537,  0.3506,  ..., -0.1005, -1.8027,  0.8696],\n",
       "        [ 0.7241,  0.8755, -1.0645,  ...,  1.7920, -0.8994,  0.1498],\n",
       "        [-1.5889, -0.2651,  0.6567,  ...,  1.8828,  0.1672, -0.5342]],\n",
       "       device='cuda:0')"
      ]
     },
     "execution_count": 6,
     "metadata": {},
     "output_type": "execute_result"
    }
   ],
   "source": [
    "pyq_f(X_gpu)"
   ]
  },
  {
   "cell_type": "code",
   "execution_count": 4,
   "id": "57db0df9",
   "metadata": {},
   "outputs": [
    {
     "data": {
      "text/plain": [
       "array([[ 0.62060547,  0.43579102,  0.91894531, ..., -0.48608398,\n",
       "         0.75585938,  0.17749023],\n",
       "       [-0.81982422,  0.59130859,  1.70996094, ...,  0.84082031,\n",
       "         1.29980469, -0.05523682],\n",
       "       [ 1.15917969,  1.453125  , -0.84667969, ...,  1.26269531,\n",
       "        -1.75292969,  0.03991699],\n",
       "       ...,\n",
       "       [ 1.00488281,  0.45141602,  0.72509766, ...,  0.14331055,\n",
       "        -1.25976562, -1.25292969],\n",
       "       [-0.61523438,  0.26611328,  0.2298584 , ...,  0.63378906,\n",
       "         0.73779297, -0.32885742],\n",
       "       [ 1.42675781, -1.1171875 ,  0.27026367, ...,  0.21594238,\n",
       "        -0.35791016, -1.671875  ]])"
      ]
     },
     "execution_count": 4,
     "metadata": {},
     "output_type": "execute_result"
    }
   ],
   "source": [
    "from pychop.chop import chop\n",
    "pychop.backend('numpy')\n",
    "pyq_f = chop('h', rmode=5, flip=0)\n",
    "pyq_f(X_np)"
   ]
  },
  {
   "cell_type": "code",
   "execution_count": 37,
   "id": "c29813b0",
   "metadata": {},
   "outputs": [],
   "source": [
    "from pychop.quant import quant\n",
    "pyq_f = quant()"
   ]
  },
  {
   "cell_type": "code",
   "execution_count": 39,
   "id": "ef762b2a",
   "metadata": {},
   "outputs": [
    {
     "data": {
      "text/plain": [
       "array([[-32, -60, -10, ...,  10, -73,  29],\n",
       "       [ 26, -19, -74, ...,  -3, -41,   8],\n",
       "       [-19,  -5, -23, ...,  35,   8,  -3],\n",
       "       ...,\n",
       "       [-44, -11, -21, ..., -32, -90, -32],\n",
       "       [  6, -32,  30, ...,  27,   3,  -4],\n",
       "       [ 60,  18, -14, ..., -24,  77,  -4]], dtype=int8)"
      ]
     },
     "execution_count": 39,
     "metadata": {},
     "output_type": "execute_result"
    }
   ],
   "source": [
    "X_q = pyq_f(X_np)\n",
    "X_q"
   ]
  },
  {
   "cell_type": "code",
   "execution_count": 40,
   "id": "ea235d0c",
   "metadata": {},
   "outputs": [
    {
     "data": {
      "text/plain": [
       "array([[-0.6704061 , -1.5172111 , -0.00505939, ...,  0.5998013 ,\n",
       "        -1.9103706 ,  1.1744189 ],\n",
       "       [ 1.0836898 , -0.27724668, -1.9406135 , ...,  0.20664184,\n",
       "        -0.94259346,  0.5393152 ],\n",
       "       [-0.27724668,  0.14615577, -0.39821884, ...,  1.355877  ,\n",
       "         0.5393152 ,  0.20664184],\n",
       "       ...,\n",
       "       [-1.0333226 , -0.03530243, -0.33773276, ..., -0.6704061 ,\n",
       "        -2.4245021 , -0.6704061 ],\n",
       "       [ 0.47882915, -0.6704061 ,  1.204662  , ...,  1.1139328 ,\n",
       "         0.38810003,  0.17639881],\n",
       "       [ 2.111953  ,  0.8417455 , -0.12603152, ..., -0.42846188,\n",
       "         2.6260846 ,  0.17639881]], dtype=float32)"
      ]
     },
     "execution_count": 40,
     "metadata": {},
     "output_type": "execute_result"
    }
   ],
   "source": [
    "pyq_f.dequant(X_q)\n"
   ]
  },
  {
   "cell_type": "code",
   "execution_count": 7,
   "id": "8d0b3068",
   "metadata": {},
   "outputs": [
    {
     "ename": "NameError",
     "evalue": "name 'X_gpu' is not defined",
     "output_type": "error",
     "traceback": [
      "\u001b[0;31m---------------------------------------------------------------------------\u001b[0m",
      "\u001b[0;31mNameError\u001b[0m                                 Traceback (most recent call last)",
      "Cell \u001b[0;32mIn[7], line 1\u001b[0m\n\u001b[0;32m----> 1\u001b[0m X_q \u001b[38;5;241m=\u001b[39m pyq_f(X_gpu)\n\u001b[1;32m      2\u001b[0m X_q\n",
      "\u001b[0;31mNameError\u001b[0m: name 'X_gpu' is not defined"
     ]
    }
   ],
   "source": [
    "X_q = pyq_f(X_gpu)\n",
    "X_q"
   ]
  },
  {
   "cell_type": "code",
   "execution_count": 8,
   "id": "01915966",
   "metadata": {},
   "outputs": [
    {
     "ename": "NameError",
     "evalue": "name 'X_q' is not defined",
     "output_type": "error",
     "traceback": [
      "\u001b[0;31m---------------------------------------------------------------------------\u001b[0m",
      "\u001b[0;31mNameError\u001b[0m                                 Traceback (most recent call last)",
      "Cell \u001b[0;32mIn[8], line 1\u001b[0m\n\u001b[0;32m----> 1\u001b[0m pyq_f\u001b[38;5;241m.\u001b[39mdequant(X_q)\n",
      "\u001b[0;31mNameError\u001b[0m: name 'X_q' is not defined"
     ]
    }
   ],
   "source": [
    "pyq_f.dequant(X_q)"
   ]
  },
  {
   "cell_type": "code",
   "execution_count": 28,
   "id": "ef6f0e70",
   "metadata": {},
   "outputs": [],
   "source": [
    "from pychop.jx.chop import chop\n",
    "from pychop.jx.fixed_point import to_fixed_point\n",
    "from pychop.jx.quant import quant"
   ]
  },
  {
   "cell_type": "code",
   "execution_count": 29,
   "id": "1384e89c",
   "metadata": {},
   "outputs": [],
   "source": [
    "pyq_f = chop('h', rmode=2, flip=1)\n"
   ]
  },
  {
   "cell_type": "code",
   "execution_count": 30,
   "id": "daaa1731",
   "metadata": {},
   "outputs": [],
   "source": [
    "import jax\n",
    "\n",
    "X_np = np.random.randn(100, 100) # Numpy array\n",
    "X_chop = pyq_f(jax.numpy.asarray(X_np))"
   ]
  },
  {
   "cell_type": "code",
   "execution_count": 43,
   "id": "f60173dd",
   "metadata": {},
   "outputs": [],
   "source": [
    "X_jp = jax.numpy.asarray(X_np)"
   ]
  },
  {
   "cell_type": "code",
   "execution_count": 45,
   "id": "4dcfa6b9",
   "metadata": {},
   "outputs": [
    {
     "ename": "SyntaxError",
     "evalue": "invalid syntax (1016456940.py, line 1)",
     "output_type": "error",
     "traceback": [
      "\u001b[0;36m  Cell \u001b[0;32mIn[45], line 1\u001b[0;36m\u001b[0m\n\u001b[0;31m    class(X_jp)\u001b[0m\n\u001b[0m         ^\u001b[0m\n\u001b[0;31mSyntaxError\u001b[0m\u001b[0;31m:\u001b[0m invalid syntax\n"
     ]
    }
   ],
   "source": [
    "(X_jp)"
   ]
  },
  {
   "cell_type": "code",
   "execution_count": 31,
   "id": "f0764bf8",
   "metadata": {},
   "outputs": [
    {
     "data": {
      "text/plain": [
       "Array([[-0.6875, -1.5   , -0.    , ...,  0.5625, -1.9375,  1.1875],\n",
       "       [ 1.0625, -0.25  , -1.9375, ...,  0.1875, -0.9375,  0.5625],\n",
       "       [-0.3125,  0.1875, -0.375 , ...,  1.375 ,  0.5625,  0.1875],\n",
       "       ...,\n",
       "       [-1.    , -0.    , -0.3125, ..., -0.6875, -2.4375, -0.6875],\n",
       "       [ 0.5   , -0.6875,  1.1875, ...,  1.125 ,  0.375 ,  0.1875],\n",
       "       [ 2.125 ,  0.875 , -0.125 , ..., -0.4375,  2.625 ,  0.1875]],      dtype=float32)"
      ]
     },
     "execution_count": 31,
     "metadata": {},
     "output_type": "execute_result"
    }
   ],
   "source": [
    "to_fixed_point(X_np)"
   ]
  },
  {
   "cell_type": "code",
   "execution_count": 34,
   "id": "7d144432",
   "metadata": {},
   "outputs": [
    {
     "data": {
      "text/plain": [
       "array([[-0.68381047, -1.50778837, -0.00937899, ...,  0.58693205,\n",
       "        -1.91591862,  1.18120965],\n",
       "       [ 1.07924827, -0.27248028, -1.93449122, ...,  0.21013045,\n",
       "        -0.95510824,  0.54691816],\n",
       "       [-0.28975033,  0.15931854, -0.3948686 , ...,  1.35505721,\n",
       "         0.54901169,  0.19715659],\n",
       "       ...,\n",
       "       [-1.02161825, -0.0259335 , -0.34300057, ..., -0.66552765,\n",
       "        -2.4177753 , -0.65936519],\n",
       "       [ 0.4879938 , -0.6583978 ,  1.19044639, ...,  1.11045062,\n",
       "         0.3878555 ,  0.18024486],\n",
       "       [ 2.09846609,  0.8542125 , -0.12266693, ..., -0.43254397,\n",
       "         2.61430382,  0.18492668]])"
      ]
     },
     "execution_count": 34,
     "metadata": {},
     "output_type": "execute_result"
    }
   ],
   "source": [
    "X_np"
   ]
  },
  {
   "cell_type": "code",
   "execution_count": 41,
   "id": "2324e267",
   "metadata": {},
   "outputs": [],
   "source": [
    "pyq_f = quant()\n",
    "X_q = pyq_f(X_np)"
   ]
  },
  {
   "cell_type": "code",
   "execution_count": 42,
   "id": "e14d6646",
   "metadata": {},
   "outputs": [
    {
     "data": {
      "text/plain": [
       "array([[-0.6704061 , -1.5172111 , -0.00505939, ...,  0.5998013 ,\n",
       "        -1.9103706 ,  1.1744189 ],\n",
       "       [ 1.0836898 , -0.27724668, -1.9406135 , ...,  0.20664184,\n",
       "        -0.94259346,  0.5393152 ],\n",
       "       [-0.27724668,  0.14615577, -0.39821884, ...,  1.355877  ,\n",
       "         0.5393152 ,  0.20664184],\n",
       "       ...,\n",
       "       [-1.0333226 , -0.03530243, -0.33773276, ..., -0.6704061 ,\n",
       "        -2.4245021 , -0.6704061 ],\n",
       "       [ 0.47882915, -0.6704061 ,  1.204662  , ...,  1.1139328 ,\n",
       "         0.38810003,  0.17639881],\n",
       "       [ 2.111953  ,  0.8417455 , -0.12603152, ..., -0.42846188,\n",
       "         2.6260846 ,  0.17639881]], dtype=float32)"
      ]
     },
     "execution_count": 42,
     "metadata": {},
     "output_type": "execute_result"
    }
   ],
   "source": [
    "pyq_f.dequant(X_q)"
   ]
  },
  {
   "cell_type": "code",
   "execution_count": null,
   "id": "5cae364b",
   "metadata": {},
   "outputs": [],
   "source": []
  }
 ],
 "metadata": {
  "kernelspec": {
   "display_name": "Python 3 (ipykernel)",
   "language": "python",
   "name": "python3"
  },
  "language_info": {
   "codemirror_mode": {
    "name": "ipython",
    "version": 3
   },
   "file_extension": ".py",
   "mimetype": "text/x-python",
   "name": "python",
   "nbconvert_exporter": "python",
   "pygments_lexer": "ipython3",
   "version": "3.11.5"
  }
 },
 "nbformat": 4,
 "nbformat_minor": 5
}
