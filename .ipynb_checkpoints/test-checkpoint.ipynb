{
 "cells": [
  {
   "cell_type": "code",
   "execution_count": 6,
   "id": "296dd14a",
   "metadata": {},
   "outputs": [
    {
     "data": {
      "text/plain": [
       "tensor([[ 1.8078, -2.1458, -0.8729,  ...,  0.3845,  1.1926,  0.1191],\n",
       "        [-0.6084,  0.7204, -1.2474,  ..., -0.5313,  0.0136, -0.2581],\n",
       "        [-1.1562, -0.7845, -2.0577,  ...,  0.1192,  0.1031, -0.0117],\n",
       "        ...,\n",
       "        [-2.2235,  0.2127,  1.5449,  ...,  1.7967,  0.2662, -1.1947],\n",
       "        [ 0.2259, -0.2386, -0.6266,  ..., -1.9348,  1.0530, -0.9427],\n",
       "        [-0.3897,  0.2671, -0.9782,  ..., -0.2055,  1.3256,  0.3737]])"
      ]
     },
     "execution_count": 6,
     "metadata": {},
     "output_type": "execute_result"
    }
   ],
   "source": [
    "import numpy as np\n",
    "import torch\n",
    "import pychop\n",
    "from pychop.tch import chop\n",
    "from time import time\n",
    "X = torch.Tensor(np.random.randn(5000, 5000))\n",
    "X"
   ]
  },
  {
   "cell_type": "code",
   "execution_count": 7,
   "id": "34a8a554",
   "metadata": {},
   "outputs": [
    {
     "data": {
      "text/plain": [
       "tensor([[ 1.8078, -2.1458, -0.8729,  ...,  0.3845,  1.1926,  0.1191],\n",
       "        [-0.6084,  0.7204, -1.2474,  ..., -0.5313,  0.0136, -0.2581],\n",
       "        [-1.1562, -0.7845, -2.0577,  ...,  0.1192,  0.1031, -0.0117],\n",
       "        ...,\n",
       "        [-2.2235,  0.2127,  1.5449,  ...,  1.7967,  0.2662, -1.1947],\n",
       "        [ 0.2259, -0.2386, -0.6266,  ..., -1.9348,  1.0530, -0.9427],\n",
       "        [-0.3897,  0.2671, -0.9782,  ..., -0.2055,  1.3256,  0.3737]])"
      ]
     },
     "execution_count": 7,
     "metadata": {},
     "output_type": "execute_result"
    }
   ],
   "source": [
    "X"
   ]
  },
  {
   "cell_type": "code",
   "execution_count": 8,
   "id": "1fc33dcf",
   "metadata": {},
   "outputs": [],
   "source": [
    "pyq_f = chop('h', copy=False)\n",
    "pyq_t = chop('h', copy=True)"
   ]
  },
  {
   "cell_type": "code",
   "execution_count": 13,
   "id": "c29813b0",
   "metadata": {},
   "outputs": [
    {
     "data": {
      "text/plain": [
       "0.9658980369567871"
      ]
     },
     "execution_count": 13,
     "metadata": {},
     "output_type": "execute_result"
    }
   ],
   "source": [
    "st = time()\n",
    "pyq_f(X)\n",
    "et = time()\n",
    "et - st"
   ]
  },
  {
   "cell_type": "code",
   "execution_count": 14,
   "id": "ed1c6fea",
   "metadata": {},
   "outputs": [
    {
     "data": {
      "text/plain": [
       "0.96626877784729"
      ]
     },
     "execution_count": 14,
     "metadata": {},
     "output_type": "execute_result"
    }
   ],
   "source": [
    "st = time()\n",
    "pyq_t(X)\n",
    "et = time()\n",
    "et - st"
   ]
  },
  {
   "cell_type": "code",
   "execution_count": 4,
   "id": "4b5357f6",
   "metadata": {},
   "outputs": [
    {
     "data": {
      "text/plain": [
       "tensor([[-2.4896,  0.8622,  0.0065,  ..., -2.4040, -3.2924,  0.9767],\n",
       "        [-0.0156,  2.3901,  1.6833,  ..., -1.0926, -0.2011, -1.0372],\n",
       "        [-2.0066,  0.0746,  0.2357,  ...,  1.1607, -0.5829,  0.7842],\n",
       "        ...,\n",
       "        [-1.7943, -0.2826,  2.3144,  ..., -0.1833,  0.2520,  1.1333],\n",
       "        [-0.1708, -0.0641, -0.1843,  ...,  0.4231, -1.9965, -0.7322],\n",
       "        [-1.2726,  0.2879, -1.1815,  ..., -0.7453, -0.4590,  1.2673]])"
      ]
     },
     "execution_count": 4,
     "metadata": {},
     "output_type": "execute_result"
    }
   ],
   "source": [
    "X"
   ]
  },
  {
   "cell_type": "code",
   "execution_count": null,
   "id": "d9daa9e6",
   "metadata": {},
   "outputs": [],
   "source": []
  }
 ],
 "metadata": {
  "kernelspec": {
   "display_name": "Python 3 (ipykernel)",
   "language": "python",
   "name": "python3"
  },
  "language_info": {
   "codemirror_mode": {
    "name": "ipython",
    "version": 3
   },
   "file_extension": ".py",
   "mimetype": "text/x-python",
   "name": "python",
   "nbconvert_exporter": "python",
   "pygments_lexer": "ipython3",
   "version": "3.11.5"
  }
 },
 "nbformat": 4,
 "nbformat_minor": 5
}
