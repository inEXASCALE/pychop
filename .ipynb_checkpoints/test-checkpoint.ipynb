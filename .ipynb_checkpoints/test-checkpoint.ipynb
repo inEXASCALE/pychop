{
 "cells": [
  {
   "cell_type": "code",
   "execution_count": 1,
   "id": "296dd14a",
   "metadata": {},
   "outputs": [],
   "source": [
    "import numpy as np\n",
    "import torch\n",
    "import pychop\n",
    "\n",
    "from time import time\n",
    "X_np = np.random.randn(5000, 5000)\n",
    "X = torch.Tensor(X_np)"
   ]
  },
  {
   "cell_type": "code",
   "execution_count": 2,
   "id": "c715bf7d",
   "metadata": {},
   "outputs": [
    {
     "name": "stdout",
     "output_type": "stream",
     "text": [
      "torch\n"
     ]
    }
   ],
   "source": [
    "import os\n",
    "pychop.backend('torch')\n",
    "print(os.environ['chop_backend'])"
   ]
  },
  {
   "cell_type": "code",
   "execution_count": 3,
   "id": "0c7593b7",
   "metadata": {},
   "outputs": [
    {
     "name": "stdout",
     "output_type": "stream",
     "text": [
      "torch\n"
     ]
    },
    {
     "data": {
      "text/plain": [
       "tensor([[-1.8750,  2.7500, -0.6250,  ..., -0.0625, -0.7500,  1.0625],\n",
       "        [ 0.2500,  0.0625, -2.7500,  ..., -0.0625,  0.7500,  0.4375],\n",
       "        [-0.5000,  0.9375,  0.6250,  ..., -1.0000, -0.4375,  1.0625],\n",
       "        ...,\n",
       "        [-0.4375, -0.3125,  0.8750,  ..., -1.1250,  0.4375, -0.1250],\n",
       "        [ 1.3125,  0.1875,  0.5000,  ..., -0.2500, -0.3750, -0.7500],\n",
       "        [-0.3750, -0.3750,  0.1250,  ...,  0.5625, -0.3750, -0.8750]])"
      ]
     },
     "execution_count": 3,
     "metadata": {},
     "output_type": "execute_result"
    }
   ],
   "source": [
    "pychop.to_fixed_point(X)"
   ]
  },
  {
   "cell_type": "code",
   "execution_count": 4,
   "id": "77971a52",
   "metadata": {},
   "outputs": [],
   "source": [
    "from importlib import reload\n",
    "from pychop.chop import chop\n",
    "from pychop.quant import quant"
   ]
  },
  {
   "cell_type": "code",
   "execution_count": 5,
   "id": "1fc33dcf",
   "metadata": {},
   "outputs": [],
   "source": [
    "pyq_f = chop('h')"
   ]
  },
  {
   "cell_type": "code",
   "execution_count": 6,
   "id": "3ee08395",
   "metadata": {},
   "outputs": [
    {
     "data": {
      "text/plain": [
       "tensor([[-1.8740,  2.7285, -0.6533,  ..., -0.0829, -0.7422,  1.0664],\n",
       "        [ 0.2283,  0.0559, -2.7637,  ..., -0.0497,  0.7681,  0.4246],\n",
       "        [-0.5146,  0.9316,  0.6348,  ..., -0.9897, -0.4656,  1.0674],\n",
       "        ...,\n",
       "        [-0.4312, -0.3193,  0.8843,  ..., -1.1094,  0.4097, -0.1084],\n",
       "        [ 1.3154,  0.2000,  0.4910,  ..., -0.2421, -0.3484, -0.7798],\n",
       "        [-0.3638, -0.3596,  0.1236,  ...,  0.5449, -0.3442, -0.8882]])"
      ]
     },
     "execution_count": 6,
     "metadata": {},
     "output_type": "execute_result"
    }
   ],
   "source": [
    "pyq_f(X)"
   ]
  },
  {
   "cell_type": "code",
   "execution_count": 7,
   "id": "c29813b0",
   "metadata": {},
   "outputs": [],
   "source": [
    "pyq_f = quant()"
   ]
  },
  {
   "cell_type": "code",
   "execution_count": 10,
   "id": "ef762b2a",
   "metadata": {},
   "outputs": [],
   "source": [
    "X_q = pyq_f(X)"
   ]
  },
  {
   "cell_type": "code",
   "execution_count": 11,
   "id": "01915966",
   "metadata": {},
   "outputs": [
    {
     "data": {
      "text/plain": [
       "tensor([[-1.8808,  2.7277, -0.6433,  ..., -0.0886, -0.7287,  1.0635],\n",
       "        [ 0.2101,  0.0394, -2.7769,  ..., -0.0459,  0.7648,  0.4235],\n",
       "        [-0.5153,  0.9355,  0.6368,  ..., -0.9847, -0.4726,  1.0635],\n",
       "        ...,\n",
       "        [-0.4300, -0.3020,  0.8928,  ..., -1.1127,  0.4235, -0.0886],\n",
       "        [ 1.3195,  0.2101,  0.5088,  ..., -0.2593, -0.3446, -0.7713],\n",
       "        [-0.3446, -0.3446,  0.1248,  ...,  0.5515, -0.3446, -0.8994]])"
      ]
     },
     "execution_count": 11,
     "metadata": {},
     "output_type": "execute_result"
    }
   ],
   "source": [
    "pyq_f.dequant(X_q)"
   ]
  },
  {
   "cell_type": "code",
   "execution_count": null,
   "id": "87125c91",
   "metadata": {},
   "outputs": [],
   "source": []
  },
  {
   "cell_type": "code",
   "execution_count": null,
   "id": "0bf8e009",
   "metadata": {},
   "outputs": [],
   "source": []
  }
 ],
 "metadata": {
  "kernelspec": {
   "display_name": "Python 3 (ipykernel)",
   "language": "python",
   "name": "python3"
  },
  "language_info": {
   "codemirror_mode": {
    "name": "ipython",
    "version": 3
   },
   "file_extension": ".py",
   "mimetype": "text/x-python",
   "name": "python",
   "nbconvert_exporter": "python",
   "pygments_lexer": "ipython3",
   "version": "3.11.5"
  }
 },
 "nbformat": 4,
 "nbformat_minor": 5
}
